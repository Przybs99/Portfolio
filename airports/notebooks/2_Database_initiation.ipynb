{
 "cells": [
  {
   "cell_type": "markdown",
   "metadata": {},
   "source": [
    " # Notebook describtion\n",
    "\n",
    " In this notebook database with table structure is created. Data will be uploaded in another notebook. \n",
    "  \n",
    " File that consists the structure of database: `sql/database_schema.sql`.\n"
   ]
  },
  {
   "cell_type": "markdown",
   "metadata": {},
   "source": [
    " Libraries import and loading enviroment variables"
   ]
  },
  {
   "cell_type": "code",
   "execution_count": 4,
   "metadata": {},
   "outputs": [],
   "source": [
    "from psycopg2 import connect\n",
    "from dotenv import load_dotenv\n",
    "from os import environ"
   ]
  },
  {
   "cell_type": "code",
   "execution_count": 5,
   "metadata": {},
   "outputs": [
    {
     "data": {
      "text/plain": [
       "True"
      ]
     },
     "execution_count": 5,
     "metadata": {},
     "output_type": "execute_result"
    }
   ],
   "source": [
    "dotenv_path = '../.env'\n",
    "load_dotenv(dotenv_path)"
   ]
  },
  {
   "cell_type": "code",
   "execution_count": 6,
   "metadata": {},
   "outputs": [],
   "source": [
    "username = environ.get('db_username')\n",
    "password = environ.get('db_password')\n",
    "\n",
    "host = environ.get('db_host')\n",
    "database = environ.get('db_database')"
   ]
  },
  {
   "cell_type": "markdown",
   "metadata": {},
   "source": [
    "Defining variables with database credentials"
   ]
  },
  {
   "cell_type": "code",
   "execution_count": 7,
   "metadata": {},
   "outputs": [],
   "source": [
    "con = connect(user=username,\n",
    "                password=password,\n",
    "                host=host,\n",
    "                database=database)\n",
    "cursor = con.cursor()"
   ]
  },
  {
   "cell_type": "markdown",
   "metadata": {},
   "source": [
    " ## Uploading `database_schema.sql`"
   ]
  },
  {
   "cell_type": "code",
   "execution_count": 8,
   "metadata": {},
   "outputs": [
    {
     "name": "stdout",
     "output_type": "stream",
     "text": [
      "DROP TABLE IF EXISTS public.aircraft CASCADE; CREATE TABLE IF NOT EXISTS public.aircraft (     id serial,     manufacture_year bigint,     tail_num text,     number_of_seats double precision ) ;  CREATE OR REPLACE VIEW public.v_aircraft_blocker AS SELECT 1 FROM public.aircraft LIMIT 1;  DROP TABLE IF EXISTS public.airport_weather CASCADE; CREATE TABLE IF NOT EXISTS public.airport_weather (     id serial,     station text,     name text,     date text,     awnd double precision,     pgtm double precision,     prcp double precision,     snow double precision,     snwd double precision,     tavg double precision,     tmax double precision,     tmin double precision,     wdf2 double precision,     wdf5 double precision,     wsf2 double precision,     wsf5 double precision,     wt01 double precision,     wt02 double precision,     wt03 double precision,     wt04 double precision,     wt05 double precision,     wt06 double precision,     wt07 double precision,     wt08 double precision,     wt09 double precision,     wesd double precision,     wt10 double precision,     psun double precision,     tsun double precision,     sn32 double precision,     sx32 double precision,     tobs double precision,     wt11 double precision,     wt18 double precision ) ;  /* BLOCKER TO FORCE USAGE if_exists in PANDAS REMOVE IF OBSTACLE*/ CREATE OR REPLACE VIEW public.v_aircraft_weather_blocker AS SELECT 1 FROM public.airport_weather LIMIT 1;  DROP TABLE IF EXISTS public.flight CASCADE; CREATE TABLE IF NOT EXISTS public.flight (     id serial,     month bigint,     day_of_month bigint,     day_of_week bigint,     op_unique_carrier text,     tail_num text,     op_carrier_fl_num bigint,     origin_airport_id bigint,     dest_airport_id bigint,     crs_dep_time bigint,     dep_time double precision,     dep_delay_new double precision,     dep_time_blk text,     crs_arr_time bigint,     arr_time double precision,     arr_delay_new double precision,     arr_time_blk text,     cancelled double precision,     crs_elapsed_time double precision,     actual_elapsed_time double precision,     distance double precision,     distance_group bigint,     carrier_delay double precision,     weather_delay double precision,     nas_delay double precision,     security_delay double precision,     late_aircraft_delay double precision,     year bigint ) ;  /* BLOCKER TO FORCE USAGE if_exists in PANDAS REMOVE IF OBSTACLE*/ CREATE OR REPLACE VIEW public.v_flight_blocker AS SELECT 1 FROM public.flight LIMIT 1;  DROP TABLE IF EXISTS public.airport_list CASCADE; CREATE TABLE IF NOT EXISTS public.airport_list (     id serial,     origin_airport_id bigint,     display_airport_name text ,     origin_city_name text ,     name text  ) ;  CREATE OR REPLACE VIEW public.v_airport_list_blocker AS SELECT 1 FROM public.airport_list LIMIT 1\n"
     ]
    }
   ],
   "source": [
    "sql_code = ''\n",
    "with open(r'..\\sql\\database_schema.sql', 'r') as my_sql:\n",
    "    code = my_sql.read().replace('\\n', ' ')\n",
    "    sql_code = f\"{sql_code}{code}\"\n",
    "print(sql_code)"
   ]
  },
  {
   "cell_type": "markdown",
   "metadata": {},
   "source": [
    "Splitting file content to different querries using ';'"
   ]
  },
  {
   "cell_type": "code",
   "execution_count": 9,
   "metadata": {},
   "outputs": [
    {
     "data": {
      "text/plain": [
       "['DROP TABLE IF EXISTS public.aircraft CASCADE',\n",
       " ' CREATE TABLE IF NOT EXISTS public.aircraft (     id serial,     manufacture_year bigint,     tail_num text,     number_of_seats double precision ) ',\n",
       " '  CREATE OR REPLACE VIEW public.v_aircraft_blocker AS SELECT 1 FROM public.aircraft LIMIT 1',\n",
       " '  DROP TABLE IF EXISTS public.airport_weather CASCADE',\n",
       " ' CREATE TABLE IF NOT EXISTS public.airport_weather (     id serial,     station text,     name text,     date text,     awnd double precision,     pgtm double precision,     prcp double precision,     snow double precision,     snwd double precision,     tavg double precision,     tmax double precision,     tmin double precision,     wdf2 double precision,     wdf5 double precision,     wsf2 double precision,     wsf5 double precision,     wt01 double precision,     wt02 double precision,     wt03 double precision,     wt04 double precision,     wt05 double precision,     wt06 double precision,     wt07 double precision,     wt08 double precision,     wt09 double precision,     wesd double precision,     wt10 double precision,     psun double precision,     tsun double precision,     sn32 double precision,     sx32 double precision,     tobs double precision,     wt11 double precision,     wt18 double precision ) ',\n",
       " '  /* BLOCKER TO FORCE USAGE if_exists in PANDAS REMOVE IF OBSTACLE*/ CREATE OR REPLACE VIEW public.v_aircraft_weather_blocker AS SELECT 1 FROM public.airport_weather LIMIT 1',\n",
       " '  DROP TABLE IF EXISTS public.flight CASCADE',\n",
       " ' CREATE TABLE IF NOT EXISTS public.flight (     id serial,     month bigint,     day_of_month bigint,     day_of_week bigint,     op_unique_carrier text,     tail_num text,     op_carrier_fl_num bigint,     origin_airport_id bigint,     dest_airport_id bigint,     crs_dep_time bigint,     dep_time double precision,     dep_delay_new double precision,     dep_time_blk text,     crs_arr_time bigint,     arr_time double precision,     arr_delay_new double precision,     arr_time_blk text,     cancelled double precision,     crs_elapsed_time double precision,     actual_elapsed_time double precision,     distance double precision,     distance_group bigint,     carrier_delay double precision,     weather_delay double precision,     nas_delay double precision,     security_delay double precision,     late_aircraft_delay double precision,     year bigint ) ',\n",
       " '  /* BLOCKER TO FORCE USAGE if_exists in PANDAS REMOVE IF OBSTACLE*/ CREATE OR REPLACE VIEW public.v_flight_blocker AS SELECT 1 FROM public.flight LIMIT 1',\n",
       " '  DROP TABLE IF EXISTS public.airport_list CASCADE',\n",
       " ' CREATE TABLE IF NOT EXISTS public.airport_list (     id serial,     origin_airport_id bigint,     display_airport_name text ,     origin_city_name text ,     name text  ) ',\n",
       " '  CREATE OR REPLACE VIEW public.v_airport_list_blocker AS SELECT 1 FROM public.airport_list LIMIT 1']"
      ]
     },
     "execution_count": 9,
     "metadata": {},
     "output_type": "execute_result"
    }
   ],
   "source": [
    "sql_code = sql_code.split(';')\n",
    "sql_code"
   ]
  },
  {
   "cell_type": "markdown",
   "metadata": {},
   "source": [
    "Executing every query "
   ]
  },
  {
   "cell_type": "code",
   "execution_count": 10,
   "metadata": {},
   "outputs": [],
   "source": [
    "for query in sql_code:\n",
    "    cursor.execute(query)"
   ]
  },
  {
   "cell_type": "markdown",
   "metadata": {},
   "source": [
    "Confirmation"
   ]
  },
  {
   "cell_type": "code",
   "execution_count": 11,
   "metadata": {},
   "outputs": [],
   "source": [
    "con.commit()"
   ]
  },
  {
   "cell_type": "markdown",
   "metadata": {},
   "source": [
    "Closing the connection"
   ]
  },
  {
   "cell_type": "code",
   "execution_count": 15,
   "metadata": {},
   "outputs": [
    {
     "name": "stdout",
     "output_type": "stream",
     "text": [
      "Wszystko wygląda OK :) Możesz przejść do kolejnego zadania.\n"
     ]
    }
   ],
   "source": [
    "con.close()"
   ]
  }
 ],
 "metadata": {
  "kernelspec": {
   "display_name": "Python 3 (ipykernel)",
   "language": "python",
   "name": "python3"
  },
  "language_info": {
   "codemirror_mode": {
    "name": "ipython",
    "version": 3
   },
   "file_extension": ".py",
   "mimetype": "text/x-python",
   "name": "python",
   "nbconvert_exporter": "python",
   "pygments_lexer": "ipython3",
   "version": "3.11.4"
  },
  "vscode": {
   "interpreter": {
    "hash": "38d75d0df746d7f75dd34c5d1915af59cb55786647bd68b8d9064425d7680b12"
   }
  }
 },
 "nbformat": 4,
 "nbformat_minor": 4
}
