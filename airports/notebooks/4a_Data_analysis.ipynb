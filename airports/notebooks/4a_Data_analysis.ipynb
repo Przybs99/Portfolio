{
 "cells": [
  {
   "cell_type": "markdown",
   "metadata": {},
   "source": [
    " # Notebook description\n",
    "\n",
    "In this notebook data is explored, prepared and then then analyzed, specifically the delay of the plane departure from 'flight' table."
   ]
  },
  {
   "cell_type": "markdown",
   "metadata": {},
   "source": [
    " Libraries import and loading enviroment variables"
   ]
  },
  {
   "cell_type": "code",
   "execution_count": 65,
   "metadata": {},
   "outputs": [],
   "source": [
    "import pandas as pd\n",
    "from sqlalchemy import create_engine\n",
    "from sqlalchemy.engine import URL\n",
    "from dotenv import load_dotenv\n",
    "from os import environ\n",
    "import plotly.express as px\n",
    "import numpy as np\n",
    "import statistics\n"
   ]
  },
  {
   "cell_type": "code",
   "execution_count": 66,
   "metadata": {},
   "outputs": [
    {
     "data": {
      "text/plain": [
       "True"
      ]
     },
     "execution_count": 66,
     "metadata": {},
     "output_type": "execute_result"
    }
   ],
   "source": [
    "dotenv_path = '../.env'\n",
    "load_dotenv(dotenv_path)"
   ]
  },
  {
   "cell_type": "code",
   "execution_count": 67,
   "metadata": {},
   "outputs": [],
   "source": [
    "username = environ.get('db_username')\n",
    "password = environ.get('db_password')\n",
    "\n",
    "host = environ.get('db_host')\n",
    "database = environ.get('db_database')\n",
    "port = environ.get('db_port')"
   ]
  },
  {
   "cell_type": "markdown",
   "metadata": {},
   "source": [
    "Creating connection variables "
   ]
  },
  {
   "cell_type": "code",
   "execution_count": 68,
   "metadata": {},
   "outputs": [],
   "source": [
    "url = URL.create(\n",
    "    \"postgresql\",\n",
    "    username=username,\n",
    "    password=password,\n",
    "    host=host,\n",
    "    database=database,\n",
    ")\n",
    "engine = create_engine(url)"
   ]
  },
  {
   "cell_type": "markdown",
   "metadata": {},
   "source": [
    "Creating function that loads data from database table into dataframe"
   ]
  },
  {
   "cell_type": "code",
   "execution_count": 69,
   "metadata": {},
   "outputs": [],
   "source": [
    "def read_sql_table(tablename):\n",
    "    return pd.read_sql(f'select * from {tablename}', engine)"
   ]
  },
  {
   "cell_type": "markdown",
   "metadata": {},
   "source": [
    " # Loading data into workspace"
   ]
  },
  {
   "cell_type": "code",
   "execution_count": 70,
   "metadata": {},
   "outputs": [
    {
     "data": {
      "text/html": [
       "<div>\n",
       "<style scoped>\n",
       "    .dataframe tbody tr th:only-of-type {\n",
       "        vertical-align: middle;\n",
       "    }\n",
       "\n",
       "    .dataframe tbody tr th {\n",
       "        vertical-align: top;\n",
       "    }\n",
       "\n",
       "    .dataframe thead th {\n",
       "        text-align: right;\n",
       "    }\n",
       "</style>\n",
       "<table border=\"1\" class=\"dataframe\">\n",
       "  <thead>\n",
       "    <tr style=\"text-align: right;\">\n",
       "      <th></th>\n",
       "      <th>id</th>\n",
       "      <th>month</th>\n",
       "      <th>day_of_month</th>\n",
       "      <th>day_of_week</th>\n",
       "      <th>op_unique_carrier</th>\n",
       "      <th>tail_num</th>\n",
       "      <th>op_carrier_fl_num</th>\n",
       "      <th>origin_airport_id</th>\n",
       "      <th>dest_airport_id</th>\n",
       "      <th>crs_dep_time</th>\n",
       "      <th>...</th>\n",
       "      <th>crs_elapsed_time</th>\n",
       "      <th>actual_elapsed_time</th>\n",
       "      <th>distance</th>\n",
       "      <th>distance_group</th>\n",
       "      <th>carrier_delay</th>\n",
       "      <th>weather_delay</th>\n",
       "      <th>nas_delay</th>\n",
       "      <th>security_delay</th>\n",
       "      <th>late_aircraft_delay</th>\n",
       "      <th>year</th>\n",
       "    </tr>\n",
       "  </thead>\n",
       "  <tbody>\n",
       "    <tr>\n",
       "      <th>0</th>\n",
       "      <td>1</td>\n",
       "      <td>1</td>\n",
       "      <td>20</td>\n",
       "      <td>7</td>\n",
       "      <td>WN</td>\n",
       "      <td>N204WN</td>\n",
       "      <td>682</td>\n",
       "      <td>10397</td>\n",
       "      <td>11292</td>\n",
       "      <td>605</td>\n",
       "      <td>...</td>\n",
       "      <td>205.0</td>\n",
       "      <td>204.0</td>\n",
       "      <td>1199.0</td>\n",
       "      <td>5</td>\n",
       "      <td>NaN</td>\n",
       "      <td>NaN</td>\n",
       "      <td>NaN</td>\n",
       "      <td>NaN</td>\n",
       "      <td>NaN</td>\n",
       "      <td>2019</td>\n",
       "    </tr>\n",
       "    <tr>\n",
       "      <th>1</th>\n",
       "      <td>2</td>\n",
       "      <td>1</td>\n",
       "      <td>20</td>\n",
       "      <td>7</td>\n",
       "      <td>WN</td>\n",
       "      <td>N8682B</td>\n",
       "      <td>2622</td>\n",
       "      <td>10397</td>\n",
       "      <td>11292</td>\n",
       "      <td>2120</td>\n",
       "      <td>...</td>\n",
       "      <td>210.0</td>\n",
       "      <td>205.0</td>\n",
       "      <td>1199.0</td>\n",
       "      <td>5</td>\n",
       "      <td>NaN</td>\n",
       "      <td>NaN</td>\n",
       "      <td>NaN</td>\n",
       "      <td>NaN</td>\n",
       "      <td>NaN</td>\n",
       "      <td>2019</td>\n",
       "    </tr>\n",
       "    <tr>\n",
       "      <th>2</th>\n",
       "      <td>3</td>\n",
       "      <td>1</td>\n",
       "      <td>20</td>\n",
       "      <td>7</td>\n",
       "      <td>WN</td>\n",
       "      <td>N717SA</td>\n",
       "      <td>2939</td>\n",
       "      <td>10397</td>\n",
       "      <td>11292</td>\n",
       "      <td>1800</td>\n",
       "      <td>...</td>\n",
       "      <td>210.0</td>\n",
       "      <td>220.0</td>\n",
       "      <td>1199.0</td>\n",
       "      <td>5</td>\n",
       "      <td>4.0</td>\n",
       "      <td>0.0</td>\n",
       "      <td>10.0</td>\n",
       "      <td>0.0</td>\n",
       "      <td>3.0</td>\n",
       "      <td>2019</td>\n",
       "    </tr>\n",
       "    <tr>\n",
       "      <th>3</th>\n",
       "      <td>4</td>\n",
       "      <td>1</td>\n",
       "      <td>20</td>\n",
       "      <td>7</td>\n",
       "      <td>WN</td>\n",
       "      <td>N709SW</td>\n",
       "      <td>3848</td>\n",
       "      <td>10397</td>\n",
       "      <td>11292</td>\n",
       "      <td>1355</td>\n",
       "      <td>...</td>\n",
       "      <td>205.0</td>\n",
       "      <td>204.0</td>\n",
       "      <td>1199.0</td>\n",
       "      <td>5</td>\n",
       "      <td>NaN</td>\n",
       "      <td>NaN</td>\n",
       "      <td>NaN</td>\n",
       "      <td>NaN</td>\n",
       "      <td>NaN</td>\n",
       "      <td>2019</td>\n",
       "    </tr>\n",
       "    <tr>\n",
       "      <th>4</th>\n",
       "      <td>5</td>\n",
       "      <td>1</td>\n",
       "      <td>20</td>\n",
       "      <td>7</td>\n",
       "      <td>WN</td>\n",
       "      <td>N7864B</td>\n",
       "      <td>1352</td>\n",
       "      <td>10397</td>\n",
       "      <td>11697</td>\n",
       "      <td>1125</td>\n",
       "      <td>...</td>\n",
       "      <td>120.0</td>\n",
       "      <td>124.0</td>\n",
       "      <td>581.0</td>\n",
       "      <td>3</td>\n",
       "      <td>NaN</td>\n",
       "      <td>NaN</td>\n",
       "      <td>NaN</td>\n",
       "      <td>NaN</td>\n",
       "      <td>NaN</td>\n",
       "      <td>2019</td>\n",
       "    </tr>\n",
       "  </tbody>\n",
       "</table>\n",
       "<p>5 rows × 28 columns</p>\n",
       "</div>"
      ],
      "text/plain": [
       "   id  month  day_of_month  day_of_week op_unique_carrier tail_num  \\\n",
       "0   1      1            20            7                WN   N204WN   \n",
       "1   2      1            20            7                WN   N8682B   \n",
       "2   3      1            20            7                WN   N717SA   \n",
       "3   4      1            20            7                WN   N709SW   \n",
       "4   5      1            20            7                WN   N7864B   \n",
       "\n",
       "   op_carrier_fl_num  origin_airport_id  dest_airport_id  crs_dep_time  ...  \\\n",
       "0                682              10397            11292           605  ...   \n",
       "1               2622              10397            11292          2120  ...   \n",
       "2               2939              10397            11292          1800  ...   \n",
       "3               3848              10397            11292          1355  ...   \n",
       "4               1352              10397            11697          1125  ...   \n",
       "\n",
       "   crs_elapsed_time  actual_elapsed_time distance  distance_group  \\\n",
       "0             205.0                204.0   1199.0               5   \n",
       "1             210.0                205.0   1199.0               5   \n",
       "2             210.0                220.0   1199.0               5   \n",
       "3             205.0                204.0   1199.0               5   \n",
       "4             120.0                124.0    581.0               3   \n",
       "\n",
       "   carrier_delay  weather_delay nas_delay  security_delay  \\\n",
       "0            NaN            NaN       NaN             NaN   \n",
       "1            NaN            NaN       NaN             NaN   \n",
       "2            4.0            0.0      10.0             0.0   \n",
       "3            NaN            NaN       NaN             NaN   \n",
       "4            NaN            NaN       NaN             NaN   \n",
       "\n",
       "   late_aircraft_delay  year  \n",
       "0                  NaN  2019  \n",
       "1                  NaN  2019  \n",
       "2                  3.0  2019  \n",
       "3                  NaN  2019  \n",
       "4                  NaN  2019  \n",
       "\n",
       "[5 rows x 28 columns]"
      ]
     },
     "execution_count": 70,
     "metadata": {},
     "output_type": "execute_result"
    }
   ],
   "source": [
    "flight_df_raw = read_sql_table('flight')\n",
    "flight_df_raw.head()"
   ]
  },
  {
   "cell_type": "markdown",
   "metadata": {},
   "source": [
    "Changing the name of the column"
   ]
  },
  {
   "cell_type": "code",
   "execution_count": 71,
   "metadata": {},
   "outputs": [
    {
     "data": {
      "text/plain": [
       "Index(['id', 'month', 'day_of_month', 'day_of_week', 'op_unique_carrier',\n",
       "       'tail_num', 'op_carrier_fl_num', 'origin_airport_id', 'dest_airport_id',\n",
       "       'crs_dep_time', 'dep_time', 'dep_delay', 'dep_time_blk', 'crs_arr_time',\n",
       "       'arr_time', 'arr_delay_new', 'arr_time_blk', 'cancelled',\n",
       "       'crs_elapsed_time', 'actual_elapsed_time', 'distance', 'distance_group',\n",
       "       'carrier_delay', 'weather_delay', 'nas_delay', 'security_delay',\n",
       "       'late_aircraft_delay', 'year'],\n",
       "      dtype='object')"
      ]
     },
     "execution_count": 71,
     "metadata": {},
     "output_type": "execute_result"
    }
   ],
   "source": [
    "flight_df_raw.rename(columns = {'dep_delay_new': 'dep_delay'}, inplace = True)\n",
    "flight_df_raw.columns"
   ]
  },
  {
   "cell_type": "markdown",
   "metadata": {},
   "source": [
    "Deleting flights from 2020 as there is only data for first three months"
   ]
  },
  {
   "cell_type": "code",
   "execution_count": 72,
   "metadata": {},
   "outputs": [],
   "source": [
    "flight_df = flight_df_raw.copy()\n",
    "flight_df = flight_df.loc[\n",
    "    (flight_df_raw['year'] != 2020) &\n",
    "    (flight_df_raw['cancelled'] != 1)\n",
    "]"
   ]
  },
  {
   "cell_type": "markdown",
   "metadata": {},
   "source": [
    "Calculating the descriptive statistics of 'dep_delay' column"
   ]
  },
  {
   "cell_type": "code",
   "execution_count": 73,
   "metadata": {},
   "outputs": [
    {
     "data": {
      "text/plain": [
       "count    1095742.00\n",
       "mean          14.77\n",
       "std           46.49\n",
       "min            0.00\n",
       "10%            0.00\n",
       "25%            0.00\n",
       "50%            0.00\n",
       "75%            8.00\n",
       "90%           42.00\n",
       "95%           81.00\n",
       "99%          206.00\n",
       "max         1959.00\n",
       "Name: dep_delay, dtype: float64"
      ]
     },
     "execution_count": 73,
     "metadata": {},
     "output_type": "execute_result"
    }
   ],
   "source": [
    "dep_delay_statistics_df = flight_df['dep_delay'].describe([0.1, 0.25, 0.5, 0.75, 0.9, 0.95, 0.99]).round(2)\n",
    "dep_delay_statistics_df"
   ]
  },
  {
   "cell_type": "markdown",
   "metadata": {},
   "source": [
    "The difference between 99th percentile and maximal value suggest that there's need to cut the highest 5 % from the analysis"
   ]
  },
  {
   "cell_type": "markdown",
   "metadata": {},
   "source": [
    " # Creating histogram of the departure values"
   ]
  },
  {
   "cell_type": "markdown",
   "metadata": {},
   "source": [
    "Plot with all the data from 'dep_delay' column with bins of the size 10"
   ]
  },
  {
   "cell_type": "code",
   "execution_count": 74,
   "metadata": {},
   "outputs": [
    {
     "data": {
      "image/png": "[encoded data removed]"
     },
     "metadata": {},
     "output_type": "display_data"
    }
   ],
   "source": [
    "fig_dd = px.histogram(flight_df,\n",
    "                      x='dep_delay',\n",
    "                      title='Histogram of departure delay',\n",
    "                      width=900,\n",
    "                      height = 500,\n",
    "                      color_discrete_sequence = ['lightgreen'])\n",
    "fig_dd.update_layout(xaxis_title=\"Delay (min)\", yaxis_title=\"Count\")\n",
    "fig_dd.update_traces(xbins=dict(\n",
    "        start=0,\n",
    "        end=max(flight_df['dep_delay']),\n",
    "        size=10))     \n",
    "\n",
    "fig_dd.show('png')"
   ]
  },
  {
   "cell_type": "markdown",
   "metadata": {},
   "source": [
    "The above plot is not easy readable so there's need to delete rows where 'dep_delay' equals 0 as there's too many of them "
   ]
  },
  {
   "cell_type": "code",
   "execution_count": 75,
   "metadata": {},
   "outputs": [
    {
     "data": {
      "image/png": "[encoded data removed]"
     },
     "metadata": {},
     "output_type": "display_data"
    }
   ],
   "source": [
    "flight_df_temp = flight_df.loc[\n",
    "    flight_df['dep_delay'] > 0\n",
    "]\n",
    "\n",
    "fig_dd_over_0 = px.histogram(flight_df_temp,\n",
    "                      x='dep_delay',\n",
    "                      title='Histogram of departure delay (not including flights that departed on time)',\n",
    "                      width=900,\n",
    "                      height = 500,\n",
    "                      color_discrete_sequence = ['lightgreen'])\n",
    "fig_dd_over_0.update_layout(xaxis_title=\"Delay (min)\", yaxis_title=\"Count\")\n",
    "fig_dd_over_0.update_traces(xbins=dict(\n",
    "        start=0,\n",
    "        end=max(flight_df['dep_delay']),\n",
    "        size=10))                    \n",
    "fig_dd_over_0.show('png')"
   ]
  },
  {
   "cell_type": "markdown",
   "metadata": {},
   "source": [
    "Second plot is a little bit better but still doesn't tell anything particular. In the next step a plot is made with rows with 'dep_delay' greater than 0 and 'dep_delay' smaller than 95th percentile "
   ]
  },
  {
   "cell_type": "code",
   "execution_count": 76,
   "metadata": {},
   "outputs": [
    {
     "data": {
      "image/png": "[encoded data removed]"
     },
     "metadata": {},
     "output_type": "display_data"
    }
   ],
   "source": [
    "flight_df_temp = flight_df.loc[\n",
    "    (flight_df['dep_delay'] > 0) &\n",
    "    (flight_df['dep_delay'] <= np.percentile(flight_df['dep_delay'], 95))\n",
    "]\n",
    "\n",
    "fig_dd_over_0_below_95 = px.histogram(flight_df_temp,\n",
    "                      x='dep_delay',\n",
    "                      title='Histogram of departure delay (below 95th percentile of all delays and above 0 minutes)',\n",
    "                      width=900,\n",
    "                      height = 500,\n",
    "                      color_discrete_sequence = ['lightgreen'])\n",
    "fig_dd_over_0_below_95.update_layout(xaxis_title=\"Delay (min)\", yaxis_title=\"Count\")\n",
    "fig_dd_over_0_below_95.update_traces(xbins=dict(\n",
    "        start=0,\n",
    "        end=max(flight_df['dep_delay']),\n",
    "        size=10))                    \n",
    "fig_dd_over_0_below_95.show('png')"
   ]
  },
  {
   "cell_type": "markdown",
   "metadata": {},
   "source": [
    "Last histogram shows that most of the delays are no longer that 20 minutes "
   ]
  },
  {
   "cell_type": "markdown",
   "metadata": {},
   "source": [
    " # Delays analysis\n"
   ]
  },
  {
   "cell_type": "markdown",
   "metadata": {},
   "source": [
    "As delay under 15 minutes could be considered too low for people to care, in the next step 'is_delayed' column is created, which is a boolean column that equals 1 when the plane is delayed over 15 minutes"
   ]
  },
  {
   "cell_type": "code",
   "execution_count": 77,
   "metadata": {},
   "outputs": [
    {
     "data": {
      "text/html": [
       "<div>\n",
       "<style scoped>\n",
       "    .dataframe tbody tr th:only-of-type {\n",
       "        vertical-align: middle;\n",
       "    }\n",
       "\n",
       "    .dataframe tbody tr th {\n",
       "        vertical-align: top;\n",
       "    }\n",
       "\n",
       "    .dataframe thead th {\n",
       "        text-align: right;\n",
       "    }\n",
       "</style>\n",
       "<table border=\"1\" class=\"dataframe\">\n",
       "  <thead>\n",
       "    <tr style=\"text-align: right;\">\n",
       "      <th></th>\n",
       "      <th>id</th>\n",
       "      <th>month</th>\n",
       "      <th>day_of_month</th>\n",
       "      <th>day_of_week</th>\n",
       "      <th>op_unique_carrier</th>\n",
       "      <th>tail_num</th>\n",
       "      <th>op_carrier_fl_num</th>\n",
       "      <th>origin_airport_id</th>\n",
       "      <th>dest_airport_id</th>\n",
       "      <th>crs_dep_time</th>\n",
       "      <th>...</th>\n",
       "      <th>actual_elapsed_time</th>\n",
       "      <th>distance</th>\n",
       "      <th>distance_group</th>\n",
       "      <th>carrier_delay</th>\n",
       "      <th>weather_delay</th>\n",
       "      <th>nas_delay</th>\n",
       "      <th>security_delay</th>\n",
       "      <th>late_aircraft_delay</th>\n",
       "      <th>year</th>\n",
       "      <th>is_delayed</th>\n",
       "    </tr>\n",
       "  </thead>\n",
       "  <tbody>\n",
       "    <tr>\n",
       "      <th>0</th>\n",
       "      <td>1</td>\n",
       "      <td>1</td>\n",
       "      <td>20</td>\n",
       "      <td>7</td>\n",
       "      <td>WN</td>\n",
       "      <td>N204WN</td>\n",
       "      <td>682</td>\n",
       "      <td>10397</td>\n",
       "      <td>11292</td>\n",
       "      <td>605</td>\n",
       "      <td>...</td>\n",
       "      <td>204.0</td>\n",
       "      <td>1199.0</td>\n",
       "      <td>5</td>\n",
       "      <td>NaN</td>\n",
       "      <td>NaN</td>\n",
       "      <td>NaN</td>\n",
       "      <td>NaN</td>\n",
       "      <td>NaN</td>\n",
       "      <td>2019</td>\n",
       "      <td>0</td>\n",
       "    </tr>\n",
       "    <tr>\n",
       "      <th>1</th>\n",
       "      <td>2</td>\n",
       "      <td>1</td>\n",
       "      <td>20</td>\n",
       "      <td>7</td>\n",
       "      <td>WN</td>\n",
       "      <td>N8682B</td>\n",
       "      <td>2622</td>\n",
       "      <td>10397</td>\n",
       "      <td>11292</td>\n",
       "      <td>2120</td>\n",
       "      <td>...</td>\n",
       "      <td>205.0</td>\n",
       "      <td>1199.0</td>\n",
       "      <td>5</td>\n",
       "      <td>NaN</td>\n",
       "      <td>NaN</td>\n",
       "      <td>NaN</td>\n",
       "      <td>NaN</td>\n",
       "      <td>NaN</td>\n",
       "      <td>2019</td>\n",
       "      <td>0</td>\n",
       "    </tr>\n",
       "    <tr>\n",
       "      <th>2</th>\n",
       "      <td>3</td>\n",
       "      <td>1</td>\n",
       "      <td>20</td>\n",
       "      <td>7</td>\n",
       "      <td>WN</td>\n",
       "      <td>N717SA</td>\n",
       "      <td>2939</td>\n",
       "      <td>10397</td>\n",
       "      <td>11292</td>\n",
       "      <td>1800</td>\n",
       "      <td>...</td>\n",
       "      <td>220.0</td>\n",
       "      <td>1199.0</td>\n",
       "      <td>5</td>\n",
       "      <td>4.0</td>\n",
       "      <td>0.0</td>\n",
       "      <td>10.0</td>\n",
       "      <td>0.0</td>\n",
       "      <td>3.0</td>\n",
       "      <td>2019</td>\n",
       "      <td>0</td>\n",
       "    </tr>\n",
       "    <tr>\n",
       "      <th>3</th>\n",
       "      <td>4</td>\n",
       "      <td>1</td>\n",
       "      <td>20</td>\n",
       "      <td>7</td>\n",
       "      <td>WN</td>\n",
       "      <td>N709SW</td>\n",
       "      <td>3848</td>\n",
       "      <td>10397</td>\n",
       "      <td>11292</td>\n",
       "      <td>1355</td>\n",
       "      <td>...</td>\n",
       "      <td>204.0</td>\n",
       "      <td>1199.0</td>\n",
       "      <td>5</td>\n",
       "      <td>NaN</td>\n",
       "      <td>NaN</td>\n",
       "      <td>NaN</td>\n",
       "      <td>NaN</td>\n",
       "      <td>NaN</td>\n",
       "      <td>2019</td>\n",
       "      <td>0</td>\n",
       "    </tr>\n",
       "    <tr>\n",
       "      <th>4</th>\n",
       "      <td>5</td>\n",
       "      <td>1</td>\n",
       "      <td>20</td>\n",
       "      <td>7</td>\n",
       "      <td>WN</td>\n",
       "      <td>N7864B</td>\n",
       "      <td>1352</td>\n",
       "      <td>10397</td>\n",
       "      <td>11697</td>\n",
       "      <td>1125</td>\n",
       "      <td>...</td>\n",
       "      <td>124.0</td>\n",
       "      <td>581.0</td>\n",
       "      <td>3</td>\n",
       "      <td>NaN</td>\n",
       "      <td>NaN</td>\n",
       "      <td>NaN</td>\n",
       "      <td>NaN</td>\n",
       "      <td>NaN</td>\n",
       "      <td>2019</td>\n",
       "      <td>0</td>\n",
       "    </tr>\n",
       "  </tbody>\n",
       "</table>\n",
       "<p>5 rows × 29 columns</p>\n",
       "</div>"
      ],
      "text/plain": [
       "   id  month  day_of_month  day_of_week op_unique_carrier tail_num  \\\n",
       "0   1      1            20            7                WN   N204WN   \n",
       "1   2      1            20            7                WN   N8682B   \n",
       "2   3      1            20            7                WN   N717SA   \n",
       "3   4      1            20            7                WN   N709SW   \n",
       "4   5      1            20            7                WN   N7864B   \n",
       "\n",
       "   op_carrier_fl_num  origin_airport_id  dest_airport_id  crs_dep_time  ...  \\\n",
       "0                682              10397            11292           605  ...   \n",
       "1               2622              10397            11292          2120  ...   \n",
       "2               2939              10397            11292          1800  ...   \n",
       "3               3848              10397            11292          1355  ...   \n",
       "4               1352              10397            11697          1125  ...   \n",
       "\n",
       "   actual_elapsed_time  distance distance_group  carrier_delay  weather_delay  \\\n",
       "0                204.0    1199.0              5            NaN            NaN   \n",
       "1                205.0    1199.0              5            NaN            NaN   \n",
       "2                220.0    1199.0              5            4.0            0.0   \n",
       "3                204.0    1199.0              5            NaN            NaN   \n",
       "4                124.0     581.0              3            NaN            NaN   \n",
       "\n",
       "   nas_delay security_delay  late_aircraft_delay  year  is_delayed  \n",
       "0        NaN            NaN                  NaN  2019           0  \n",
       "1        NaN            NaN                  NaN  2019           0  \n",
       "2       10.0            0.0                  3.0  2019           0  \n",
       "3        NaN            NaN                  NaN  2019           0  \n",
       "4        NaN            NaN                  NaN  2019           0  \n",
       "\n",
       "[5 rows x 29 columns]"
      ]
     },
     "execution_count": 77,
     "metadata": {},
     "output_type": "execute_result"
    }
   ],
   "source": [
    "flight_df['is_delayed'] = np.where(flight_df['dep_delay'] > 15, 1, 0)\n",
    "flight_df.head()"
   ]
  },
  {
   "cell_type": "code",
   "execution_count": 78,
   "metadata": {},
   "outputs": [
    {
     "data": {
      "text/plain": [
       "0.19"
      ]
     },
     "execution_count": 78,
     "metadata": {},
     "output_type": "execute_result"
    }
   ],
   "source": [
    "delayed_ratio = round(statistics.mean(flight_df['is_delayed']), 2)\n",
    "delayed_ratio"
   ]
  },
  {
   "cell_type": "markdown",
   "metadata": {},
   "source": [
    "Delayed ratio equals 19% so on average out of every 100 flights 19 are delayed 15 min or over"
   ]
  },
  {
   "cell_type": "markdown",
   "metadata": {},
   "source": [
    " # Delays vs month\n",
    "\n",
    "In this section a plot is created that determines how delays ratio changes through different months"
   ]
  },
  {
   "cell_type": "markdown",
   "metadata": {},
   "source": [
    "Grouping delays per month "
   ]
  },
  {
   "cell_type": "code",
   "execution_count": 79,
   "metadata": {},
   "outputs": [
    {
     "data": {
      "text/html": [
       "<div>\n",
       "<style scoped>\n",
       "    .dataframe tbody tr th:only-of-type {\n",
       "        vertical-align: middle;\n",
       "    }\n",
       "\n",
       "    .dataframe tbody tr th {\n",
       "        vertical-align: top;\n",
       "    }\n",
       "\n",
       "    .dataframe thead th {\n",
       "        text-align: right;\n",
       "    }\n",
       "</style>\n",
       "<table border=\"1\" class=\"dataframe\">\n",
       "  <thead>\n",
       "    <tr style=\"text-align: right;\">\n",
       "      <th></th>\n",
       "      <th>month</th>\n",
       "      <th>is_delayed</th>\n",
       "    </tr>\n",
       "  </thead>\n",
       "  <tbody>\n",
       "    <tr>\n",
       "      <th>0</th>\n",
       "      <td>1</td>\n",
       "      <td>18.08</td>\n",
       "    </tr>\n",
       "    <tr>\n",
       "      <th>1</th>\n",
       "      <td>2</td>\n",
       "      <td>21.86</td>\n",
       "    </tr>\n",
       "    <tr>\n",
       "      <th>2</th>\n",
       "      <td>3</td>\n",
       "      <td>17.61</td>\n",
       "    </tr>\n",
       "    <tr>\n",
       "      <th>3</th>\n",
       "      <td>4</td>\n",
       "      <td>18.28</td>\n",
       "    </tr>\n",
       "    <tr>\n",
       "      <th>4</th>\n",
       "      <td>5</td>\n",
       "      <td>20.47</td>\n",
       "    </tr>\n",
       "    <tr>\n",
       "      <th>5</th>\n",
       "      <td>6</td>\n",
       "      <td>24.76</td>\n",
       "    </tr>\n",
       "    <tr>\n",
       "      <th>6</th>\n",
       "      <td>7</td>\n",
       "      <td>21.67</td>\n",
       "    </tr>\n",
       "    <tr>\n",
       "      <th>7</th>\n",
       "      <td>8</td>\n",
       "      <td>21.03</td>\n",
       "    </tr>\n",
       "    <tr>\n",
       "      <th>8</th>\n",
       "      <td>9</td>\n",
       "      <td>14.77</td>\n",
       "    </tr>\n",
       "    <tr>\n",
       "      <th>9</th>\n",
       "      <td>10</td>\n",
       "      <td>16.35</td>\n",
       "    </tr>\n",
       "    <tr>\n",
       "      <th>10</th>\n",
       "      <td>11</td>\n",
       "      <td>13.92</td>\n",
       "    </tr>\n",
       "    <tr>\n",
       "      <th>11</th>\n",
       "      <td>12</td>\n",
       "      <td>20.79</td>\n",
       "    </tr>\n",
       "  </tbody>\n",
       "</table>\n",
       "</div>"
      ],
      "text/plain": [
       "    month  is_delayed\n",
       "0       1       18.08\n",
       "1       2       21.86\n",
       "2       3       17.61\n",
       "3       4       18.28\n",
       "4       5       20.47\n",
       "5       6       24.76\n",
       "6       7       21.67\n",
       "7       8       21.03\n",
       "8       9       14.77\n",
       "9      10       16.35\n",
       "10     11       13.92\n",
       "11     12       20.79"
      ]
     },
     "execution_count": 79,
     "metadata": {},
     "output_type": "execute_result"
    }
   ],
   "source": [
    "flight_df_delays = flight_df.loc[:,['month', 'is_delayed']]\n",
    "\n",
    "flight_delays_by_month_df = flight_df_delays.groupby('month').mean().reset_index()\n",
    "flight_delays_by_month_df['is_delayed'] = round(flight_delays_by_month_df['is_delayed'] * 100, 2)\n",
    "flight_delays_by_month_df"
   ]
  },
  {
   "cell_type": "markdown",
   "metadata": {},
   "source": [
    "Creating a barplot of delays grouped by month "
   ]
  },
  {
   "cell_type": "code",
   "execution_count": 80,
   "metadata": {},
   "outputs": [
    {
     "data": {
      "image/png": "[encoded data removed]"
     },
     "metadata": {},
     "output_type": "display_data"
    }
   ],
   "source": [
    "fig_id_month = px.bar(flight_delays_by_month_df,\n",
    "                      x='month',\n",
    "                      y = 'is_delayed',\n",
    "                      title='Bar plot of monthly delays percentage',\n",
    "                      width=900,\n",
    "                      height = 500,\n",
    "                      color_discrete_sequence = ['forestgreen'])\n",
    "fig_id_month.update_xaxes(dtick='month')\n",
    "fig_id_month.update_layout(xaxis_title=\"Month\", yaxis_title=\"Percentage of delays\")\n",
    "fig_id_month.show('png')"
   ]
  },
  {
   "cell_type": "markdown",
   "metadata": {},
   "source": [
    "The last plot shows that delys ratio doesn't change much throughout the months but is little bit higher in holiday season (summer - 5, 6, 7, 8, winter - 1, 2, 12)"
   ]
  },
  {
   "cell_type": "markdown",
   "metadata": {},
   "source": [
    " # Delays vs day of the week\n",
    "\n",
    "In this section a plot is created that determines how delays ratio changes through different days of the week"
   ]
  },
  {
   "cell_type": "markdown",
   "metadata": {},
   "source": [
    "Grouping delays by days of the week"
   ]
  },
  {
   "cell_type": "code",
   "execution_count": 81,
   "metadata": {},
   "outputs": [
    {
     "data": {
      "text/html": [
       "<div>\n",
       "<style scoped>\n",
       "    .dataframe tbody tr th:only-of-type {\n",
       "        vertical-align: middle;\n",
       "    }\n",
       "\n",
       "    .dataframe tbody tr th {\n",
       "        vertical-align: top;\n",
       "    }\n",
       "\n",
       "    .dataframe thead th {\n",
       "        text-align: right;\n",
       "    }\n",
       "</style>\n",
       "<table border=\"1\" class=\"dataframe\">\n",
       "  <thead>\n",
       "    <tr style=\"text-align: right;\">\n",
       "      <th></th>\n",
       "      <th>day_of_week</th>\n",
       "      <th>is_delayed</th>\n",
       "    </tr>\n",
       "  </thead>\n",
       "  <tbody>\n",
       "    <tr>\n",
       "      <th>0</th>\n",
       "      <td>1</td>\n",
       "      <td>20.13</td>\n",
       "    </tr>\n",
       "    <tr>\n",
       "      <th>1</th>\n",
       "      <td>2</td>\n",
       "      <td>17.48</td>\n",
       "    </tr>\n",
       "    <tr>\n",
       "      <th>2</th>\n",
       "      <td>3</td>\n",
       "      <td>18.28</td>\n",
       "    </tr>\n",
       "    <tr>\n",
       "      <th>3</th>\n",
       "      <td>4</td>\n",
       "      <td>21.22</td>\n",
       "    </tr>\n",
       "    <tr>\n",
       "      <th>4</th>\n",
       "      <td>5</td>\n",
       "      <td>20.32</td>\n",
       "    </tr>\n",
       "    <tr>\n",
       "      <th>5</th>\n",
       "      <td>6</td>\n",
       "      <td>16.78</td>\n",
       "    </tr>\n",
       "    <tr>\n",
       "      <th>6</th>\n",
       "      <td>7</td>\n",
       "      <td>19.24</td>\n",
       "    </tr>\n",
       "  </tbody>\n",
       "</table>\n",
       "</div>"
      ],
      "text/plain": [
       "   day_of_week  is_delayed\n",
       "0            1       20.13\n",
       "1            2       17.48\n",
       "2            3       18.28\n",
       "3            4       21.22\n",
       "4            5       20.32\n",
       "5            6       16.78\n",
       "6            7       19.24"
      ]
     },
     "execution_count": 81,
     "metadata": {},
     "output_type": "execute_result"
    }
   ],
   "source": [
    "flight_df_delays = flight_df.loc[:,['day_of_week', 'is_delayed']]\n",
    "\n",
    "flight_delays_by_weekday_df = flight_df_delays.groupby('day_of_week').mean().reset_index()\n",
    "flight_delays_by_weekday_df['is_delayed'] = round(flight_delays_by_weekday_df['is_delayed'] * 100, 2)\n",
    "flight_delays_by_weekday_df"
   ]
  },
  {
   "cell_type": "markdown",
   "metadata": {},
   "source": [
    "Creating a barplot of delays grouped by days of the week"
   ]
  },
  {
   "cell_type": "code",
   "execution_count": 82,
   "metadata": {},
   "outputs": [
    {
     "data": {
      "image/png": "[encoded data removed]"
     },
     "metadata": {},
     "output_type": "display_data"
    }
   ],
   "source": [
    "fig_id_weekday = px.bar(flight_delays_by_weekday_df,\n",
    "                      x='day_of_week',\n",
    "                      y = 'is_delayed',\n",
    "                      title='Bar plot of delays percentage broken down by days of the week',\n",
    "                      width=900,\n",
    "                      height = 500,\n",
    "                      color_discrete_sequence = ['forestgreen'])\n",
    "fig_id_weekday.update_xaxes(dtick='day_of_week')\n",
    "fig_id_weekday.update_layout(xaxis_title=\"Day of the week\", yaxis_title=\"Percentage of delays\")\n",
    "fig_id_weekday.show('png')"
   ]
  },
  {
   "cell_type": "markdown",
   "metadata": {},
   "source": [
    "The last plot doesn't show the influence day of the week has on flight delay"
   ]
  },
  {
   "cell_type": "markdown",
   "metadata": {},
   "source": [
    " # Delays vs weekend\n",
    "\n",
    "In this section a plot is created that determines how delays ratio changes between week days and weekend"
   ]
  },
  {
   "cell_type": "markdown",
   "metadata": {},
   "source": [
    "Creating new boolean column 'is_weekend' that equals 1 if the flight was on Saturday or Sunday"
   ]
  },
  {
   "cell_type": "code",
   "execution_count": 83,
   "metadata": {},
   "outputs": [
    {
     "data": {
      "text/html": [
       "<div>\n",
       "<style scoped>\n",
       "    .dataframe tbody tr th:only-of-type {\n",
       "        vertical-align: middle;\n",
       "    }\n",
       "\n",
       "    .dataframe tbody tr th {\n",
       "        vertical-align: top;\n",
       "    }\n",
       "\n",
       "    .dataframe thead th {\n",
       "        text-align: right;\n",
       "    }\n",
       "</style>\n",
       "<table border=\"1\" class=\"dataframe\">\n",
       "  <thead>\n",
       "    <tr style=\"text-align: right;\">\n",
       "      <th></th>\n",
       "      <th>id</th>\n",
       "      <th>month</th>\n",
       "      <th>day_of_month</th>\n",
       "      <th>day_of_week</th>\n",
       "      <th>op_unique_carrier</th>\n",
       "      <th>tail_num</th>\n",
       "      <th>op_carrier_fl_num</th>\n",
       "      <th>origin_airport_id</th>\n",
       "      <th>dest_airport_id</th>\n",
       "      <th>crs_dep_time</th>\n",
       "      <th>...</th>\n",
       "      <th>distance</th>\n",
       "      <th>distance_group</th>\n",
       "      <th>carrier_delay</th>\n",
       "      <th>weather_delay</th>\n",
       "      <th>nas_delay</th>\n",
       "      <th>security_delay</th>\n",
       "      <th>late_aircraft_delay</th>\n",
       "      <th>year</th>\n",
       "      <th>is_delayed</th>\n",
       "      <th>is_weekend</th>\n",
       "    </tr>\n",
       "  </thead>\n",
       "  <tbody>\n",
       "    <tr>\n",
       "      <th>1382982</th>\n",
       "      <td>1382967</td>\n",
       "      <td>12</td>\n",
       "      <td>11</td>\n",
       "      <td>3</td>\n",
       "      <td>DL</td>\n",
       "      <td>N321DH</td>\n",
       "      <td>1826</td>\n",
       "      <td>13303</td>\n",
       "      <td>10397</td>\n",
       "      <td>1807</td>\n",
       "      <td>...</td>\n",
       "      <td>594.0</td>\n",
       "      <td>3</td>\n",
       "      <td>NaN</td>\n",
       "      <td>NaN</td>\n",
       "      <td>NaN</td>\n",
       "      <td>NaN</td>\n",
       "      <td>NaN</td>\n",
       "      <td>2019</td>\n",
       "      <td>0</td>\n",
       "      <td>0</td>\n",
       "    </tr>\n",
       "    <tr>\n",
       "      <th>1382983</th>\n",
       "      <td>1382968</td>\n",
       "      <td>12</td>\n",
       "      <td>11</td>\n",
       "      <td>3</td>\n",
       "      <td>DL</td>\n",
       "      <td>N329NW</td>\n",
       "      <td>1982</td>\n",
       "      <td>13303</td>\n",
       "      <td>12953</td>\n",
       "      <td>1959</td>\n",
       "      <td>...</td>\n",
       "      <td>1096.0</td>\n",
       "      <td>5</td>\n",
       "      <td>5.0</td>\n",
       "      <td>0.0</td>\n",
       "      <td>19.0</td>\n",
       "      <td>0.0</td>\n",
       "      <td>0.0</td>\n",
       "      <td>2019</td>\n",
       "      <td>1</td>\n",
       "      <td>0</td>\n",
       "    </tr>\n",
       "    <tr>\n",
       "      <th>1382984</th>\n",
       "      <td>1382969</td>\n",
       "      <td>12</td>\n",
       "      <td>11</td>\n",
       "      <td>3</td>\n",
       "      <td>DL</td>\n",
       "      <td>N331NW</td>\n",
       "      <td>1987</td>\n",
       "      <td>13303</td>\n",
       "      <td>10397</td>\n",
       "      <td>1125</td>\n",
       "      <td>...</td>\n",
       "      <td>594.0</td>\n",
       "      <td>3</td>\n",
       "      <td>NaN</td>\n",
       "      <td>NaN</td>\n",
       "      <td>NaN</td>\n",
       "      <td>NaN</td>\n",
       "      <td>NaN</td>\n",
       "      <td>2019</td>\n",
       "      <td>0</td>\n",
       "      <td>0</td>\n",
       "    </tr>\n",
       "    <tr>\n",
       "      <th>1382985</th>\n",
       "      <td>1382970</td>\n",
       "      <td>12</td>\n",
       "      <td>11</td>\n",
       "      <td>3</td>\n",
       "      <td>DL</td>\n",
       "      <td>N309DN</td>\n",
       "      <td>2151</td>\n",
       "      <td>13303</td>\n",
       "      <td>12953</td>\n",
       "      <td>700</td>\n",
       "      <td>...</td>\n",
       "      <td>1096.0</td>\n",
       "      <td>5</td>\n",
       "      <td>0.0</td>\n",
       "      <td>0.0</td>\n",
       "      <td>66.0</td>\n",
       "      <td>0.0</td>\n",
       "      <td>0.0</td>\n",
       "      <td>2019</td>\n",
       "      <td>1</td>\n",
       "      <td>0</td>\n",
       "    </tr>\n",
       "    <tr>\n",
       "      <th>1382986</th>\n",
       "      <td>1382971</td>\n",
       "      <td>12</td>\n",
       "      <td>11</td>\n",
       "      <td>3</td>\n",
       "      <td>DL</td>\n",
       "      <td>N338DN</td>\n",
       "      <td>2405</td>\n",
       "      <td>13303</td>\n",
       "      <td>10397</td>\n",
       "      <td>1231</td>\n",
       "      <td>...</td>\n",
       "      <td>594.0</td>\n",
       "      <td>3</td>\n",
       "      <td>NaN</td>\n",
       "      <td>NaN</td>\n",
       "      <td>NaN</td>\n",
       "      <td>NaN</td>\n",
       "      <td>NaN</td>\n",
       "      <td>2019</td>\n",
       "      <td>0</td>\n",
       "      <td>0</td>\n",
       "    </tr>\n",
       "  </tbody>\n",
       "</table>\n",
       "<p>5 rows × 30 columns</p>\n",
       "</div>"
      ],
      "text/plain": [
       "              id  month  day_of_month  day_of_week op_unique_carrier tail_num  \\\n",
       "1382982  1382967     12            11            3                DL   N321DH   \n",
       "1382983  1382968     12            11            3                DL   N329NW   \n",
       "1382984  1382969     12            11            3                DL   N331NW   \n",
       "1382985  1382970     12            11            3                DL   N309DN   \n",
       "1382986  1382971     12            11            3                DL   N338DN   \n",
       "\n",
       "         op_carrier_fl_num  origin_airport_id  dest_airport_id  crs_dep_time  \\\n",
       "1382982               1826              13303            10397          1807   \n",
       "1382983               1982              13303            12953          1959   \n",
       "1382984               1987              13303            10397          1125   \n",
       "1382985               2151              13303            12953           700   \n",
       "1382986               2405              13303            10397          1231   \n",
       "\n",
       "         ...  distance  distance_group carrier_delay  weather_delay  \\\n",
       "1382982  ...     594.0               3           NaN            NaN   \n",
       "1382983  ...    1096.0               5           5.0            0.0   \n",
       "1382984  ...     594.0               3           NaN            NaN   \n",
       "1382985  ...    1096.0               5           0.0            0.0   \n",
       "1382986  ...     594.0               3           NaN            NaN   \n",
       "\n",
       "         nas_delay  security_delay late_aircraft_delay  year  is_delayed  \\\n",
       "1382982        NaN             NaN                 NaN  2019           0   \n",
       "1382983       19.0             0.0                 0.0  2019           1   \n",
       "1382984        NaN             NaN                 NaN  2019           0   \n",
       "1382985       66.0             0.0                 0.0  2019           1   \n",
       "1382986        NaN             NaN                 NaN  2019           0   \n",
       "\n",
       "         is_weekend  \n",
       "1382982           0  \n",
       "1382983           0  \n",
       "1382984           0  \n",
       "1382985           0  \n",
       "1382986           0  \n",
       "\n",
       "[5 rows x 30 columns]"
      ]
     },
     "execution_count": 83,
     "metadata": {},
     "output_type": "execute_result"
    }
   ],
   "source": [
    "flight_df['is_weekend'] = np.where(flight_df['day_of_week'] > 5, 1, 0)\n",
    "flight_df.tail()"
   ]
  },
  {
   "cell_type": "markdown",
   "metadata": {},
   "source": [
    "Aggregation of data to a new dataframe"
   ]
  },
  {
   "cell_type": "code",
   "execution_count": 84,
   "metadata": {},
   "outputs": [
    {
     "data": {
      "text/html": [
       "<div>\n",
       "<style scoped>\n",
       "    .dataframe tbody tr th:only-of-type {\n",
       "        vertical-align: middle;\n",
       "    }\n",
       "\n",
       "    .dataframe tbody tr th {\n",
       "        vertical-align: top;\n",
       "    }\n",
       "\n",
       "    .dataframe thead th {\n",
       "        text-align: right;\n",
       "    }\n",
       "</style>\n",
       "<table border=\"1\" class=\"dataframe\">\n",
       "  <thead>\n",
       "    <tr style=\"text-align: right;\">\n",
       "      <th></th>\n",
       "      <th>is_weekend</th>\n",
       "      <th>is_delayed</th>\n",
       "    </tr>\n",
       "  </thead>\n",
       "  <tbody>\n",
       "    <tr>\n",
       "      <th>0</th>\n",
       "      <td>0</td>\n",
       "      <td>19.49</td>\n",
       "    </tr>\n",
       "    <tr>\n",
       "      <th>1</th>\n",
       "      <td>1</td>\n",
       "      <td>18.12</td>\n",
       "    </tr>\n",
       "  </tbody>\n",
       "</table>\n",
       "</div>"
      ],
      "text/plain": [
       "   is_weekend  is_delayed\n",
       "0           0       19.49\n",
       "1           1       18.12"
      ]
     },
     "execution_count": 84,
     "metadata": {},
     "output_type": "execute_result"
    }
   ],
   "source": [
    "flight_df_delays = flight_df.loc[:,['is_weekend', 'is_delayed']]\n",
    "\n",
    "flight_delays_by_weekend_df = flight_df_delays.groupby('is_weekend').mean().reset_index()\n",
    "flight_delays_by_weekend_df['is_delayed'] = round(flight_delays_by_weekend_df['is_delayed'] * 100, 2)\n",
    "flight_delays_by_weekend_df"
   ]
  },
  {
   "cell_type": "markdown",
   "metadata": {},
   "source": [
    "Creating a barplot that shows if the delays ratio changes on the weekend"
   ]
  },
  {
   "cell_type": "code",
   "execution_count": 85,
   "metadata": {},
   "outputs": [
    {
     "data": {
      "image/png": "[encoded data removed]"
     },
     "metadata": {},
     "output_type": "display_data"
    }
   ],
   "source": [
    "fig_id_weekend = px.bar(flight_delays_by_weekend_df,\n",
    "                      x='is_weekend',\n",
    "                      y = 'is_delayed',\n",
    "                      title='Bar plot of delays percentage broken down by weekend and weekdays',\n",
    "                      width=500,\n",
    "                      height = 800,\n",
    "                      color_discrete_sequence = ['forestgreen'])\n",
    "fig_id_weekend.update_layout(xaxis_title=\"Weekend\", yaxis_title=\"Percentage of delays\")\n",
    "fig_id_weekend.update_xaxes(dtick = 'is_weekend')\n",
    "fig_id_weekend.show('png')"
   ]
  },
  {
   "cell_type": "markdown",
   "metadata": {
    "tags": []
   },
   "source": [
    "Flight being on the weekend doesn't affect flight delays"
   ]
  },
  {
   "cell_type": "markdown",
   "metadata": {},
   "source": [
    " # Delays vs flight distance\n",
    "\n",
    " In this section analysis is made on the influence that flight distance has on flight delay"
   ]
  },
  {
   "cell_type": "markdown",
   "metadata": {},
   "source": [
    "Calculating descriptive statistics of 'distance' column"
   ]
  },
  {
   "cell_type": "code",
   "execution_count": 86,
   "metadata": {},
   "outputs": [
    {
     "data": {
      "text/plain": [
       "count    1095742.00\n",
       "mean         758.08\n",
       "std          600.43\n",
       "min          100.00\n",
       "10%          216.00\n",
       "25%          337.00\n",
       "50%          606.00\n",
       "75%          937.00\n",
       "90%         1721.00\n",
       "95%         2475.00\n",
       "99%         2586.00\n",
       "max         2586.00\n",
       "Name: distance, dtype: float64"
      ]
     },
     "execution_count": 86,
     "metadata": {},
     "output_type": "execute_result"
    }
   ],
   "source": [
    "flight_distance_analysis_df = flight_df['distance'].describe([0.1, 0.25, 0.5, 0.75, 0.9, 0.95, 0.99]).round(2)\n",
    "flight_distance_analysis_df"
   ]
  },
  {
   "cell_type": "markdown",
   "metadata": {},
   "source": [
    "Creating scatterplot of 10000 random rows"
   ]
  },
  {
   "cell_type": "code",
   "execution_count": 87,
   "metadata": {},
   "outputs": [
    {
     "data": {
      "image/png": "[encoded data removed]"
     },
     "metadata": {},
     "output_type": "display_data"
    }
   ],
   "source": [
    "fig_distance_delay = px.scatter(flight_df.sample(10000),\n",
    "                      x='distance',\n",
    "                      y = 'dep_delay',\n",
    "                      title='Scatter plot of delays in relation to flight distance',\n",
    "                      color_discrete_sequence = ['forestgreen'])\n",
    "fig_distance_delay.update_layout(xaxis_title=\"Distance\", yaxis_title=\"Departure delay\")\n",
    "fig_distance_delay.show('png')"
   ]
  },
  {
   "cell_type": "markdown",
   "metadata": {},
   "source": [
    "Because in almost every random 10000 rows there are outliers the analysis has to be made for observations are lower than 95th percentile"
   ]
  },
  {
   "cell_type": "code",
   "execution_count": 88,
   "metadata": {},
   "outputs": [],
   "source": [
    "flight_df = flight_df.loc[\n",
    "    flight_df['distance'] <= np.percentile(flight_df['distance'], 95)\n",
    "]"
   ]
  },
  {
   "cell_type": "markdown",
   "metadata": {},
   "source": [
    "Creating bins with the size of 100 by distance"
   ]
  },
  {
   "cell_type": "code",
   "execution_count": 89,
   "metadata": {},
   "outputs": [
    {
     "data": {
      "text/html": [
       "<div>\n",
       "<style scoped>\n",
       "    .dataframe tbody tr th:only-of-type {\n",
       "        vertical-align: middle;\n",
       "    }\n",
       "\n",
       "    .dataframe tbody tr th {\n",
       "        vertical-align: top;\n",
       "    }\n",
       "\n",
       "    .dataframe thead th {\n",
       "        text-align: right;\n",
       "    }\n",
       "</style>\n",
       "<table border=\"1\" class=\"dataframe\">\n",
       "  <thead>\n",
       "    <tr style=\"text-align: right;\">\n",
       "      <th></th>\n",
       "      <th>id</th>\n",
       "      <th>month</th>\n",
       "      <th>day_of_month</th>\n",
       "      <th>day_of_week</th>\n",
       "      <th>op_unique_carrier</th>\n",
       "      <th>tail_num</th>\n",
       "      <th>op_carrier_fl_num</th>\n",
       "      <th>origin_airport_id</th>\n",
       "      <th>dest_airport_id</th>\n",
       "      <th>crs_dep_time</th>\n",
       "      <th>...</th>\n",
       "      <th>distance_group</th>\n",
       "      <th>carrier_delay</th>\n",
       "      <th>weather_delay</th>\n",
       "      <th>nas_delay</th>\n",
       "      <th>security_delay</th>\n",
       "      <th>late_aircraft_delay</th>\n",
       "      <th>year</th>\n",
       "      <th>is_delayed</th>\n",
       "      <th>is_weekend</th>\n",
       "      <th>distance_agg</th>\n",
       "    </tr>\n",
       "  </thead>\n",
       "  <tbody>\n",
       "    <tr>\n",
       "      <th>0</th>\n",
       "      <td>1</td>\n",
       "      <td>1</td>\n",
       "      <td>20</td>\n",
       "      <td>7</td>\n",
       "      <td>WN</td>\n",
       "      <td>N204WN</td>\n",
       "      <td>682</td>\n",
       "      <td>10397</td>\n",
       "      <td>11292</td>\n",
       "      <td>605</td>\n",
       "      <td>...</td>\n",
       "      <td>5</td>\n",
       "      <td>NaN</td>\n",
       "      <td>NaN</td>\n",
       "      <td>NaN</td>\n",
       "      <td>NaN</td>\n",
       "      <td>NaN</td>\n",
       "      <td>2019</td>\n",
       "      <td>0</td>\n",
       "      <td>1</td>\n",
       "      <td>(1100, 1200]</td>\n",
       "    </tr>\n",
       "    <tr>\n",
       "      <th>1</th>\n",
       "      <td>2</td>\n",
       "      <td>1</td>\n",
       "      <td>20</td>\n",
       "      <td>7</td>\n",
       "      <td>WN</td>\n",
       "      <td>N8682B</td>\n",
       "      <td>2622</td>\n",
       "      <td>10397</td>\n",
       "      <td>11292</td>\n",
       "      <td>2120</td>\n",
       "      <td>...</td>\n",
       "      <td>5</td>\n",
       "      <td>NaN</td>\n",
       "      <td>NaN</td>\n",
       "      <td>NaN</td>\n",
       "      <td>NaN</td>\n",
       "      <td>NaN</td>\n",
       "      <td>2019</td>\n",
       "      <td>0</td>\n",
       "      <td>1</td>\n",
       "      <td>(1100, 1200]</td>\n",
       "    </tr>\n",
       "    <tr>\n",
       "      <th>2</th>\n",
       "      <td>3</td>\n",
       "      <td>1</td>\n",
       "      <td>20</td>\n",
       "      <td>7</td>\n",
       "      <td>WN</td>\n",
       "      <td>N717SA</td>\n",
       "      <td>2939</td>\n",
       "      <td>10397</td>\n",
       "      <td>11292</td>\n",
       "      <td>1800</td>\n",
       "      <td>...</td>\n",
       "      <td>5</td>\n",
       "      <td>4.0</td>\n",
       "      <td>0.0</td>\n",
       "      <td>10.0</td>\n",
       "      <td>0.0</td>\n",
       "      <td>3.0</td>\n",
       "      <td>2019</td>\n",
       "      <td>0</td>\n",
       "      <td>1</td>\n",
       "      <td>(1100, 1200]</td>\n",
       "    </tr>\n",
       "    <tr>\n",
       "      <th>3</th>\n",
       "      <td>4</td>\n",
       "      <td>1</td>\n",
       "      <td>20</td>\n",
       "      <td>7</td>\n",
       "      <td>WN</td>\n",
       "      <td>N709SW</td>\n",
       "      <td>3848</td>\n",
       "      <td>10397</td>\n",
       "      <td>11292</td>\n",
       "      <td>1355</td>\n",
       "      <td>...</td>\n",
       "      <td>5</td>\n",
       "      <td>NaN</td>\n",
       "      <td>NaN</td>\n",
       "      <td>NaN</td>\n",
       "      <td>NaN</td>\n",
       "      <td>NaN</td>\n",
       "      <td>2019</td>\n",
       "      <td>0</td>\n",
       "      <td>1</td>\n",
       "      <td>(1100, 1200]</td>\n",
       "    </tr>\n",
       "    <tr>\n",
       "      <th>4</th>\n",
       "      <td>5</td>\n",
       "      <td>1</td>\n",
       "      <td>20</td>\n",
       "      <td>7</td>\n",
       "      <td>WN</td>\n",
       "      <td>N7864B</td>\n",
       "      <td>1352</td>\n",
       "      <td>10397</td>\n",
       "      <td>11697</td>\n",
       "      <td>1125</td>\n",
       "      <td>...</td>\n",
       "      <td>3</td>\n",
       "      <td>NaN</td>\n",
       "      <td>NaN</td>\n",
       "      <td>NaN</td>\n",
       "      <td>NaN</td>\n",
       "      <td>NaN</td>\n",
       "      <td>2019</td>\n",
       "      <td>0</td>\n",
       "      <td>1</td>\n",
       "      <td>(500, 600]</td>\n",
       "    </tr>\n",
       "  </tbody>\n",
       "</table>\n",
       "<p>5 rows × 31 columns</p>\n",
       "</div>"
      ],
      "text/plain": [
       "   id  month  day_of_month  day_of_week op_unique_carrier tail_num  \\\n",
       "0   1      1            20            7                WN   N204WN   \n",
       "1   2      1            20            7                WN   N8682B   \n",
       "2   3      1            20            7                WN   N717SA   \n",
       "3   4      1            20            7                WN   N709SW   \n",
       "4   5      1            20            7                WN   N7864B   \n",
       "\n",
       "   op_carrier_fl_num  origin_airport_id  dest_airport_id  crs_dep_time  ...  \\\n",
       "0                682              10397            11292           605  ...   \n",
       "1               2622              10397            11292          2120  ...   \n",
       "2               2939              10397            11292          1800  ...   \n",
       "3               3848              10397            11292          1355  ...   \n",
       "4               1352              10397            11697          1125  ...   \n",
       "\n",
       "   distance_group  carrier_delay weather_delay  nas_delay  security_delay  \\\n",
       "0               5            NaN           NaN        NaN             NaN   \n",
       "1               5            NaN           NaN        NaN             NaN   \n",
       "2               5            4.0           0.0       10.0             0.0   \n",
       "3               5            NaN           NaN        NaN             NaN   \n",
       "4               3            NaN           NaN        NaN             NaN   \n",
       "\n",
       "   late_aircraft_delay  year  is_delayed  is_weekend  distance_agg  \n",
       "0                  NaN  2019           0           1  (1100, 1200]  \n",
       "1                  NaN  2019           0           1  (1100, 1200]  \n",
       "2                  3.0  2019           0           1  (1100, 1200]  \n",
       "3                  NaN  2019           0           1  (1100, 1200]  \n",
       "4                  NaN  2019           0           1    (500, 600]  \n",
       "\n",
       "[5 rows x 31 columns]"
      ]
     },
     "execution_count": 89,
     "metadata": {},
     "output_type": "execute_result"
    }
   ],
   "source": [
    "flight_delays_by_distance_agg_df = flight_df.copy()\n",
    "\n",
    "bins = pd.interval_range(start = 0, end = int(\n",
    "    max(flight_delays_by_distance_agg_df['distance'])\n",
    "    ), freq = 100)\n",
    "\n",
    "flight_delays_by_distance_agg_df['distance_agg'] = pd.cut(\n",
    "    flight_delays_by_distance_agg_df['distance'], bins\n",
    "    ).astype('str')\n",
    "\n",
    "flight_delays_by_distance_agg_df.head()"
   ]
  },
  {
   "cell_type": "markdown",
   "metadata": {},
   "source": [
    "Aggregating data and grouping it by distance bins"
   ]
  },
  {
   "cell_type": "code",
   "execution_count": 90,
   "metadata": {},
   "outputs": [
    {
     "data": {
      "text/html": [
       "<div>\n",
       "<style scoped>\n",
       "    .dataframe tbody tr th:only-of-type {\n",
       "        vertical-align: middle;\n",
       "    }\n",
       "\n",
       "    .dataframe tbody tr th {\n",
       "        vertical-align: top;\n",
       "    }\n",
       "\n",
       "    .dataframe thead th {\n",
       "        text-align: right;\n",
       "    }\n",
       "</style>\n",
       "<table border=\"1\" class=\"dataframe\">\n",
       "  <thead>\n",
       "    <tr style=\"text-align: right;\">\n",
       "      <th></th>\n",
       "      <th>distance_agg</th>\n",
       "      <th>is_delayed</th>\n",
       "      <th>distance</th>\n",
       "    </tr>\n",
       "  </thead>\n",
       "  <tbody>\n",
       "    <tr>\n",
       "      <th>0</th>\n",
       "      <td>(0, 100]</td>\n",
       "      <td>5.93</td>\n",
       "      <td>100.000000</td>\n",
       "    </tr>\n",
       "    <tr>\n",
       "      <th>1</th>\n",
       "      <td>(100, 200]</td>\n",
       "      <td>16.89</td>\n",
       "      <td>166.339119</td>\n",
       "    </tr>\n",
       "    <tr>\n",
       "      <th>10</th>\n",
       "      <td>(200, 300]</td>\n",
       "      <td>18.19</td>\n",
       "      <td>239.280706</td>\n",
       "    </tr>\n",
       "    <tr>\n",
       "      <th>11</th>\n",
       "      <td>(300, 400]</td>\n",
       "      <td>19.56</td>\n",
       "      <td>357.043357</td>\n",
       "    </tr>\n",
       "    <tr>\n",
       "      <th>12</th>\n",
       "      <td>(400, 500]</td>\n",
       "      <td>17.14</td>\n",
       "      <td>424.530727</td>\n",
       "    </tr>\n",
       "    <tr>\n",
       "      <th>13</th>\n",
       "      <td>(500, 600]</td>\n",
       "      <td>16.50</td>\n",
       "      <td>572.680090</td>\n",
       "    </tr>\n",
       "    <tr>\n",
       "      <th>14</th>\n",
       "      <td>(600, 700]</td>\n",
       "      <td>19.73</td>\n",
       "      <td>642.759604</td>\n",
       "    </tr>\n",
       "    <tr>\n",
       "      <th>15</th>\n",
       "      <td>(700, 800]</td>\n",
       "      <td>23.55</td>\n",
       "      <td>739.337459</td>\n",
       "    </tr>\n",
       "    <tr>\n",
       "      <th>16</th>\n",
       "      <td>(800, 900]</td>\n",
       "      <td>21.14</td>\n",
       "      <td>856.507767</td>\n",
       "    </tr>\n",
       "    <tr>\n",
       "      <th>17</th>\n",
       "      <td>(900, 1000]</td>\n",
       "      <td>22.42</td>\n",
       "      <td>950.565400</td>\n",
       "    </tr>\n",
       "    <tr>\n",
       "      <th>2</th>\n",
       "      <td>(1000, 1100]</td>\n",
       "      <td>19.58</td>\n",
       "      <td>1056.709133</td>\n",
       "    </tr>\n",
       "    <tr>\n",
       "      <th>3</th>\n",
       "      <td>(1100, 1200]</td>\n",
       "      <td>19.02</td>\n",
       "      <td>1158.677588</td>\n",
       "    </tr>\n",
       "    <tr>\n",
       "      <th>4</th>\n",
       "      <td>(1200, 1300]</td>\n",
       "      <td>20.93</td>\n",
       "      <td>1235.000000</td>\n",
       "    </tr>\n",
       "    <tr>\n",
       "      <th>5</th>\n",
       "      <td>(1300, 1400]</td>\n",
       "      <td>24.60</td>\n",
       "      <td>1389.000000</td>\n",
       "    </tr>\n",
       "    <tr>\n",
       "      <th>6</th>\n",
       "      <td>(1400, 1500]</td>\n",
       "      <td>16.03</td>\n",
       "      <td>1444.585812</td>\n",
       "    </tr>\n",
       "    <tr>\n",
       "      <th>7</th>\n",
       "      <td>(1700, 1800]</td>\n",
       "      <td>20.68</td>\n",
       "      <td>1734.449008</td>\n",
       "    </tr>\n",
       "    <tr>\n",
       "      <th>8</th>\n",
       "      <td>(1800, 1900]</td>\n",
       "      <td>26.93</td>\n",
       "      <td>1846.000000</td>\n",
       "    </tr>\n",
       "    <tr>\n",
       "      <th>9</th>\n",
       "      <td>(1900, 2000]</td>\n",
       "      <td>20.21</td>\n",
       "      <td>1947.000000</td>\n",
       "    </tr>\n",
       "    <tr>\n",
       "      <th>18</th>\n",
       "      <td>nan</td>\n",
       "      <td>16.66</td>\n",
       "      <td>2475.000000</td>\n",
       "    </tr>\n",
       "  </tbody>\n",
       "</table>\n",
       "</div>"
      ],
      "text/plain": [
       "    distance_agg  is_delayed     distance\n",
       "0       (0, 100]        5.93   100.000000\n",
       "1     (100, 200]       16.89   166.339119\n",
       "10    (200, 300]       18.19   239.280706\n",
       "11    (300, 400]       19.56   357.043357\n",
       "12    (400, 500]       17.14   424.530727\n",
       "13    (500, 600]       16.50   572.680090\n",
       "14    (600, 700]       19.73   642.759604\n",
       "15    (700, 800]       23.55   739.337459\n",
       "16    (800, 900]       21.14   856.507767\n",
       "17   (900, 1000]       22.42   950.565400\n",
       "2   (1000, 1100]       19.58  1056.709133\n",
       "3   (1100, 1200]       19.02  1158.677588\n",
       "4   (1200, 1300]       20.93  1235.000000\n",
       "5   (1300, 1400]       24.60  1389.000000\n",
       "6   (1400, 1500]       16.03  1444.585812\n",
       "7   (1700, 1800]       20.68  1734.449008\n",
       "8   (1800, 1900]       26.93  1846.000000\n",
       "9   (1900, 2000]       20.21  1947.000000\n",
       "18           nan       16.66  2475.000000"
      ]
     },
     "execution_count": 90,
     "metadata": {},
     "output_type": "execute_result"
    }
   ],
   "source": [
    "flight_delays_by_distance_agg_df = flight_delays_by_distance_agg_df.loc[:,['distance_agg', 'is_delayed', 'distance']]\n",
    "\n",
    "flight_delays_by_distance_agg_df_grouped = flight_delays_by_distance_agg_df.groupby('distance_agg').mean()\n",
    "\n",
    "flight_delays_by_distance_agg_df_grouped = flight_delays_by_distance_agg_df_grouped.dropna().reset_index().sort_values('distance')\n",
    "\n",
    "flight_delays_by_distance_agg_df_grouped['is_delayed'] = round(flight_delays_by_distance_agg_df_grouped['is_delayed'] * 100, 2)\n",
    "\n",
    "flight_delays_by_distance_agg_df_grouped"
   ]
  },
  {
   "cell_type": "markdown",
   "metadata": {},
   "source": [
    "Creating barplot of delays in each distance bin"
   ]
  },
  {
   "cell_type": "code",
   "execution_count": 91,
   "metadata": {},
   "outputs": [
    {
     "data": {
      "image/png": "[encoded data removed]"
     },
     "metadata": {},
     "output_type": "display_data"
    }
   ],
   "source": [
    "fig_distance_delay_agg = px.bar(flight_delays_by_distance_agg_df_grouped,\n",
    "                      x='distance_agg',\n",
    "                      y = 'is_delayed',\n",
    "                      title='Barplot of delays in relation to flight distance',\n",
    "                      color_discrete_sequence = ['forestgreen'])\n",
    "fig_distance_delay_agg.update_layout(xaxis_title=\"Distance\", yaxis_title=\"Departure delay\")\n",
    "fig_distance_delay_agg.show('png')"
   ]
  },
  {
   "cell_type": "markdown",
   "metadata": {},
   "source": [
    "Flight distance have only slight influence on flight delay"
   ]
  },
  {
   "cell_type": "markdown",
   "metadata": {},
   "source": [
    " # Delays vs distance group (column that was in a dataframe by default)\n",
    "\n",
    " In this section analysis is made based on a column 'distance group' and delays in each of them "
   ]
  },
  {
   "cell_type": "markdown",
   "metadata": {},
   "source": [
    "Determining range of each group"
   ]
  },
  {
   "cell_type": "code",
   "execution_count": 92,
   "metadata": {},
   "outputs": [
    {
     "data": {
      "text/html": [
       "<div>\n",
       "<style scoped>\n",
       "    .dataframe tbody tr th:only-of-type {\n",
       "        vertical-align: middle;\n",
       "    }\n",
       "\n",
       "    .dataframe tbody tr th {\n",
       "        vertical-align: top;\n",
       "    }\n",
       "\n",
       "    .dataframe thead tr th {\n",
       "        text-align: left;\n",
       "    }\n",
       "</style>\n",
       "<table border=\"1\" class=\"dataframe\">\n",
       "  <thead>\n",
       "    <tr>\n",
       "      <th></th>\n",
       "      <th>distance_group</th>\n",
       "      <th colspan=\"2\" halign=\"left\">distance</th>\n",
       "    </tr>\n",
       "    <tr>\n",
       "      <th></th>\n",
       "      <th></th>\n",
       "      <th>min</th>\n",
       "      <th>max</th>\n",
       "    </tr>\n",
       "  </thead>\n",
       "  <tbody>\n",
       "    <tr>\n",
       "      <th>0</th>\n",
       "      <td>1</td>\n",
       "      <td>100.0</td>\n",
       "      <td>239.0</td>\n",
       "    </tr>\n",
       "    <tr>\n",
       "      <th>1</th>\n",
       "      <td>2</td>\n",
       "      <td>255.0</td>\n",
       "      <td>480.0</td>\n",
       "    </tr>\n",
       "    <tr>\n",
       "      <th>2</th>\n",
       "      <td>3</td>\n",
       "      <td>544.0</td>\n",
       "      <td>746.0</td>\n",
       "    </tr>\n",
       "    <tr>\n",
       "      <th>3</th>\n",
       "      <td>4</td>\n",
       "      <td>762.0</td>\n",
       "      <td>967.0</td>\n",
       "    </tr>\n",
       "    <tr>\n",
       "      <th>4</th>\n",
       "      <td>5</td>\n",
       "      <td>1024.0</td>\n",
       "      <td>1235.0</td>\n",
       "    </tr>\n",
       "    <tr>\n",
       "      <th>5</th>\n",
       "      <td>6</td>\n",
       "      <td>1389.0</td>\n",
       "      <td>1448.0</td>\n",
       "    </tr>\n",
       "    <tr>\n",
       "      <th>6</th>\n",
       "      <td>7</td>\n",
       "      <td>1721.0</td>\n",
       "      <td>1744.0</td>\n",
       "    </tr>\n",
       "    <tr>\n",
       "      <th>7</th>\n",
       "      <td>8</td>\n",
       "      <td>1846.0</td>\n",
       "      <td>1947.0</td>\n",
       "    </tr>\n",
       "    <tr>\n",
       "      <th>8</th>\n",
       "      <td>10</td>\n",
       "      <td>2475.0</td>\n",
       "      <td>2475.0</td>\n",
       "    </tr>\n",
       "  </tbody>\n",
       "</table>\n",
       "</div>"
      ],
      "text/plain": [
       "  distance_group distance        \n",
       "                      min     max\n",
       "0              1    100.0   239.0\n",
       "1              2    255.0   480.0\n",
       "2              3    544.0   746.0\n",
       "3              4    762.0   967.0\n",
       "4              5   1024.0  1235.0\n",
       "5              6   1389.0  1448.0\n",
       "6              7   1721.0  1744.0\n",
       "7              8   1846.0  1947.0\n",
       "8             10   2475.0  2475.0"
      ]
     },
     "execution_count": 92,
     "metadata": {},
     "output_type": "execute_result"
    }
   ],
   "source": [
    "flight_distance_by_distance_group = flight_df.groupby('distance_group').agg(['min', 'max']).reset_index()\n",
    "\n",
    "flight_distance_by_distance_group = flight_distance_by_distance_group.loc[:,['distance_group', 'distance']]\n",
    "flight_distance_by_distance_group"
   ]
  },
  {
   "cell_type": "markdown",
   "metadata": {},
   "source": [
    "Grouping delays_ratio per distance group"
   ]
  },
  {
   "cell_type": "code",
   "execution_count": 93,
   "metadata": {},
   "outputs": [
    {
     "data": {
      "text/html": [
       "<div>\n",
       "<style scoped>\n",
       "    .dataframe tbody tr th:only-of-type {\n",
       "        vertical-align: middle;\n",
       "    }\n",
       "\n",
       "    .dataframe tbody tr th {\n",
       "        vertical-align: top;\n",
       "    }\n",
       "\n",
       "    .dataframe thead th {\n",
       "        text-align: right;\n",
       "    }\n",
       "</style>\n",
       "<table border=\"1\" class=\"dataframe\">\n",
       "  <thead>\n",
       "    <tr style=\"text-align: right;\">\n",
       "      <th></th>\n",
       "      <th>distance_group</th>\n",
       "      <th>is_delayed</th>\n",
       "    </tr>\n",
       "  </thead>\n",
       "  <tbody>\n",
       "    <tr>\n",
       "      <th>0</th>\n",
       "      <td>1</td>\n",
       "      <td>15.86</td>\n",
       "    </tr>\n",
       "    <tr>\n",
       "      <th>1</th>\n",
       "      <td>2</td>\n",
       "      <td>18.73</td>\n",
       "    </tr>\n",
       "    <tr>\n",
       "      <th>2</th>\n",
       "      <td>3</td>\n",
       "      <td>19.82</td>\n",
       "    </tr>\n",
       "    <tr>\n",
       "      <th>3</th>\n",
       "      <td>4</td>\n",
       "      <td>21.65</td>\n",
       "    </tr>\n",
       "    <tr>\n",
       "      <th>4</th>\n",
       "      <td>5</td>\n",
       "      <td>19.62</td>\n",
       "    </tr>\n",
       "    <tr>\n",
       "      <th>5</th>\n",
       "      <td>6</td>\n",
       "      <td>18.96</td>\n",
       "    </tr>\n",
       "    <tr>\n",
       "      <th>6</th>\n",
       "      <td>7</td>\n",
       "      <td>20.68</td>\n",
       "    </tr>\n",
       "    <tr>\n",
       "      <th>7</th>\n",
       "      <td>8</td>\n",
       "      <td>23.54</td>\n",
       "    </tr>\n",
       "    <tr>\n",
       "      <th>8</th>\n",
       "      <td>10</td>\n",
       "      <td>16.66</td>\n",
       "    </tr>\n",
       "  </tbody>\n",
       "</table>\n",
       "</div>"
      ],
      "text/plain": [
       "   distance_group  is_delayed\n",
       "0               1       15.86\n",
       "1               2       18.73\n",
       "2               3       19.82\n",
       "3               4       21.65\n",
       "4               5       19.62\n",
       "5               6       18.96\n",
       "6               7       20.68\n",
       "7               8       23.54\n",
       "8              10       16.66"
      ]
     },
     "execution_count": 93,
     "metadata": {},
     "output_type": "execute_result"
    }
   ],
   "source": [
    "flight_delays_by_distance_group_df = flight_df.loc[:, ['distance_group', 'is_delayed']]\n",
    "\n",
    "flight_delays_by_distance_group_df = flight_delays_by_distance_group_df.groupby('distance_group').mean().reset_index()\n",
    "flight_delays_by_distance_group_df['is_delayed'] = round(flight_delays_by_distance_group_df['is_delayed'] * 100, 2)\n",
    "flight_delays_by_distance_group_df"
   ]
  },
  {
   "cell_type": "markdown",
   "metadata": {},
   "source": [
    "Creating barplot of delays per distance group"
   ]
  },
  {
   "cell_type": "code",
   "execution_count": 94,
   "metadata": {},
   "outputs": [
    {
     "data": {
      "image/png": "[encoded data removed]"
     },
     "metadata": {},
     "output_type": "display_data"
    }
   ],
   "source": [
    "fig_dg_delay = px.bar(flight_delays_by_distance_group_df,\n",
    "                      x='distance_group',\n",
    "                      y = 'is_delayed',\n",
    "                      title='Barplot of delays broken down distance group',\n",
    "                      color_discrete_sequence = ['forestgreen'])\n",
    "fig_dg_delay.update_layout(xaxis_title=\"Distance group\", yaxis_title=\"Departure delay\")\n",
    "fig_dg_delay.update_xaxes(dtick = 'distance_group')\n",
    "fig_dg_delay.show('png')"
   ]
  },
  {
   "cell_type": "markdown",
   "metadata": {},
   "source": [
    "The last plot shows slight tendency that the longer the flight the longer the delay"
   ]
  },
  {
   "cell_type": "markdown",
   "metadata": {},
   "source": [
    "Saving flight dataframe to pickle to retreive in the next notebook"
   ]
  },
  {
   "cell_type": "code",
   "execution_count": 95,
   "metadata": {},
   "outputs": [],
   "source": [
    "flight_df.to_pickle(r'..\\data\\processed\\flight_df_01.pk1')"
   ]
  }
 ],
 "metadata": {
  "kernelspec": {
   "display_name": "Python 3 (ipykernel)",
   "language": "python",
   "name": "python3"
  },
  "language_info": {
   "codemirror_mode": {
    "name": "ipython",
    "version": 3
   },
   "file_extension": ".py",
   "mimetype": "text/x-python",
   "name": "python",
   "nbconvert_exporter": "python",
   "pygments_lexer": "ipython3",
   "version": "3.11.4"
  },
  "vscode": {
   "interpreter": {
    "hash": "38d75d0df746d7f75dd34c5d1915af59cb55786647bd68b8d9064425d7680b12"
   }
  }
 },
 "nbformat": 4,
 "nbformat_minor": 4
}
