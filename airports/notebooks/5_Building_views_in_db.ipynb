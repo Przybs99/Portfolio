{
 "cells": [
  {
   "cell_type": "markdown",
   "metadata": {},
   "source": [
    " # Notebook description\n",
    "\n",
    " In this notebook database views are created which will be helpful when doing reports in dash"
   ]
  },
  {
   "cell_type": "markdown",
   "metadata": {},
   "source": [
    " # Business requirements\n",
    " 1. Top 10 lowest delays ratio\n",
    " 2. Top 10 highest delays ratio \n",
    " 3. 2019 vs 2020 comparison to see if covid had any influence. \n",
    "     - month to month comparison\n",
    "     - day to day comparison\n",
    " 4. Daily delays ratio"
   ]
  },
  {
   "cell_type": "markdown",
   "metadata": {},
   "source": [
    " Libraries import and loading enviroment variables"
   ]
  },
  {
   "cell_type": "code",
   "execution_count": 1,
   "metadata": {},
   "outputs": [],
   "source": [
    "from psycopg2 import connect\n",
    "from dotenv import load_dotenv\n",
    "from os import environ"
   ]
  },
  {
   "cell_type": "code",
   "execution_count": 2,
   "metadata": {},
   "outputs": [
    {
     "data": {
      "text/plain": [
       "True"
      ]
     },
     "execution_count": 2,
     "metadata": {},
     "output_type": "execute_result"
    }
   ],
   "source": [
    "dotenv_path = '../.env'\n",
    "load_dotenv(dotenv_path)"
   ]
  },
  {
   "cell_type": "code",
   "execution_count": 3,
   "metadata": {},
   "outputs": [],
   "source": [
    "username = environ.get('db_username')\n",
    "password = environ.get('db_password')\n",
    "\n",
    "host = environ.get('db_host')\n",
    "database = environ.get('db_database')"
   ]
  },
  {
   "cell_type": "markdown",
   "metadata": {},
   "source": [
    "Creating connection variables"
   ]
  },
  {
   "cell_type": "code",
   "execution_count": 4,
   "metadata": {},
   "outputs": [],
   "source": [
    "con = connect(user=username,\n",
    "                password=password,\n",
    "                host=host,\n",
    "                database=database)\n",
    "cursor = con.cursor()"
   ]
  },
  {
   "cell_type": "markdown",
   "metadata": {},
   "source": [
    "Loading 'reporting.sql' file"
   ]
  },
  {
   "cell_type": "code",
   "execution_count": 5,
   "metadata": {},
   "outputs": [
    {
     "name": "stdout",
     "output_type": "stream",
     "text": [
      "/* Defining `reporting` schema */ CREATE SCHEMA IF NOT EXISTS reporting ; /* Defining reporting.flight view, which: - doesn't include cancelled flights - include 'is_delayed' column */ CREATE OR REPLACE VIEW reporting.flight as SELECT *,        CASE            WHEN dep_delay_new > 0 THEN 1            ELSE 0        END AS is_delayed FROM flight where cancelled = 0  ; /* Defining reporting.top_reliability_roads view, which includes: - `origin_airport_id`, - `origin_airport_name`, - `dest_airport_id`, - `dest_airport_name`, - `year`, - `cnt` - number of flights on route, - `reliability` - delay ratio in route, - `nb` - ranking reliability,  columns */ CREATE OR REPLACE VIEW reporting.top_reliability_roads AS select f.origin_airport_id, \tal.name as origin_airport_name, \tf.dest_airport_id, \tal2.name as dest_airport_name, \tyear, \tcount(*) as cnt, \tround(is_delayed_mean, 2) as reliability, \tdense_rank() over(order by round(is_delayed_mean, 2)) as nb FROM flight f join airport_list al on f.origin_airport_id = al.origin_airport_id \t\t\t  join airport_list al2 on f.dest_airport_id = al2.origin_airport_id \t\t\t  join (select  \t\t\t\t   \t\torigin_airport_id, \t\t\t\t   \t\tdest_airport_id, \t\t\t\t   \t\tavg(CASE \t\t\t\t\t\t\t   WHEN dep_delay_new > 0 THEN 1 \t\t\t\t\t\t\t   ELSE 0 \t\t\t\t\t\tEND) AS is_delayed_mean \t\t\t\t\tfrom flight \t\t\t\t    group by origin_airport_id, dest_airport_id \t\t\t\t   ) as f2 on f.origin_airport_id = f2.origin_airport_id AND f.dest_airport_id = f2.dest_airport_id group by f.origin_airport_id, f.dest_airport_id, al.name, al2.name, year, is_delayed_mean having count(*) > 10000 ; /* Defining reporting.year_to_year_comparision view, which includes: - `year` - `month`, - `flights_amount` - `reliability` columns */ CREATE OR REPLACE VIEW reporting.year_to_year_comparision AS select  f.year, f.month, count(*) as flights_amount, round(is_delayed_mean, 2) as reliability from flight f join (select  \t\t\t\t   \t\tyear, \t\t\t\t   \t\tmonth, \t\t\t\t   \t\tavg(CASE \t\t\t\t\t\t\t   WHEN dep_delay_new > 0 THEN 1 \t\t\t\t\t\t\t   ELSE 0 \t\t\t\t\t\tEND) AS is_delayed_mean \t\t\t\t\tfrom flight \t\t\t\t    group by year, month \t\t\t\t   ) as f2 on f.year = f2.year and f.month = f2.month group by f.year, f.month, is_delayed_mean order by f.year, f.month ; /* Defining reporting.day_to_day_comparision view, which includes: - `year` - `day_of_week` - `flights_amount` */ CREATE OR REPLACE VIEW reporting.day_to_day_comparision AS select  year, day_of_week, count(*) as flights_amount from flight  group by year, day_of_week order by year, day_of_week ; /* Defining reporting.day_by_day_reliability view, which includes: - `date`  - `reliability`  */ CREATE OR REPLACE VIEW reporting.day_by_day_reliability AS select  to_date((f.year||'-'||f.month||'-'||f.day_of_month), 'YYYY-mm-DD') as date, round(is_delayed_mean, 2) as reliability from flight f join (select  \t\t\t\t   \t\tyear, \t\t\t\t   \t\tmonth, \t\t\t\t\t\tday_of_month, \t\t\t\t   \t\tavg(CASE \t\t\t\t\t\t\t   WHEN dep_delay_new > 0 THEN 1 \t\t\t\t\t\t\t   ELSE 0 \t\t\t\t\t\tEND) AS is_delayed_mean \t\t\t\t\tfrom flight \t\t\t\t    group by year, month, day_of_month \t\t\t\t   ) as f2 on f.year = f2.year and f.month = f2.month and f.day_of_month = f2.day_of_month group by to_date((f.year||'-'||f.month||'-'||f.day_of_month), 'YYYY-mm-DD'), round(is_delayed_mean, 2)\n"
     ]
    }
   ],
   "source": [
    "sql_code = ''\n",
    "with open(r'..\\sql\\reporting.sql', 'r') as my_sql:\n",
    "    code = my_sql.read().replace('\\n', ' ')\n",
    "    sql_code = f\"{sql_code}{code}\"\n",
    "print(sql_code)"
   ]
  },
  {
   "cell_type": "code",
   "execution_count": 6,
   "metadata": {},
   "outputs": [
    {
     "data": {
      "text/plain": [
       "['/* Defining `reporting` schema */ CREATE SCHEMA IF NOT EXISTS reporting ',\n",
       " \" /* Defining reporting.flight view, which: - doesn't include cancelled flights - include 'is_delayed' column */ CREATE OR REPLACE VIEW reporting.flight as SELECT *,        CASE            WHEN dep_delay_new > 0 THEN 1            ELSE 0        END AS is_delayed FROM flight where cancelled = 0  \",\n",
       " ' /* Defining reporting.top_reliability_roads view, which includes: - `origin_airport_id`, - `origin_airport_name`, - `dest_airport_id`, - `dest_airport_name`, - `year`, - `cnt` - number of flights on route, - `reliability` - delay ratio in route, - `nb` - ranking reliability,  columns */ CREATE OR REPLACE VIEW reporting.top_reliability_roads AS select f.origin_airport_id, \\tal.name as origin_airport_name, \\tf.dest_airport_id, \\tal2.name as dest_airport_name, \\tyear, \\tcount(*) as cnt, \\tround(is_delayed_mean, 2) as reliability, \\tdense_rank() over(order by round(is_delayed_mean, 2)) as nb FROM flight f join airport_list al on f.origin_airport_id = al.origin_airport_id \\t\\t\\t  join airport_list al2 on f.dest_airport_id = al2.origin_airport_id \\t\\t\\t  join (select  \\t\\t\\t\\t   \\t\\torigin_airport_id, \\t\\t\\t\\t   \\t\\tdest_airport_id, \\t\\t\\t\\t   \\t\\tavg(CASE \\t\\t\\t\\t\\t\\t\\t   WHEN dep_delay_new > 0 THEN 1 \\t\\t\\t\\t\\t\\t\\t   ELSE 0 \\t\\t\\t\\t\\t\\tEND) AS is_delayed_mean \\t\\t\\t\\t\\tfrom flight \\t\\t\\t\\t    group by origin_airport_id, dest_airport_id \\t\\t\\t\\t   ) as f2 on f.origin_airport_id = f2.origin_airport_id AND f.dest_airport_id = f2.dest_airport_id group by f.origin_airport_id, f.dest_airport_id, al.name, al2.name, year, is_delayed_mean having count(*) > 10000 ',\n",
       " ' /* Defining reporting.year_to_year_comparision view, which includes: - `year` - `month`, - `flights_amount` - `reliability` columns */ CREATE OR REPLACE VIEW reporting.year_to_year_comparision AS select  f.year, f.month, count(*) as flights_amount, round(is_delayed_mean, 2) as reliability from flight f join (select  \\t\\t\\t\\t   \\t\\tyear, \\t\\t\\t\\t   \\t\\tmonth, \\t\\t\\t\\t   \\t\\tavg(CASE \\t\\t\\t\\t\\t\\t\\t   WHEN dep_delay_new > 0 THEN 1 \\t\\t\\t\\t\\t\\t\\t   ELSE 0 \\t\\t\\t\\t\\t\\tEND) AS is_delayed_mean \\t\\t\\t\\t\\tfrom flight \\t\\t\\t\\t    group by year, month \\t\\t\\t\\t   ) as f2 on f.year = f2.year and f.month = f2.month group by f.year, f.month, is_delayed_mean order by f.year, f.month ',\n",
       " ' /* Defining reporting.day_to_day_comparision view, which includes: - `year` - `day_of_week` - `flights_amount` */ CREATE OR REPLACE VIEW reporting.day_to_day_comparision AS select  year, day_of_week, count(*) as flights_amount from flight  group by year, day_of_week order by year, day_of_week ',\n",
       " \" /* Defining reporting.day_by_day_reliability view, which includes: - `date`  - `reliability`  */ CREATE OR REPLACE VIEW reporting.day_by_day_reliability AS select  to_date((f.year||'-'||f.month||'-'||f.day_of_month), 'YYYY-mm-DD') as date, round(is_delayed_mean, 2) as reliability from flight f join (select  \\t\\t\\t\\t   \\t\\tyear, \\t\\t\\t\\t   \\t\\tmonth, \\t\\t\\t\\t\\t\\tday_of_month, \\t\\t\\t\\t   \\t\\tavg(CASE \\t\\t\\t\\t\\t\\t\\t   WHEN dep_delay_new > 0 THEN 1 \\t\\t\\t\\t\\t\\t\\t   ELSE 0 \\t\\t\\t\\t\\t\\tEND) AS is_delayed_mean \\t\\t\\t\\t\\tfrom flight \\t\\t\\t\\t    group by year, month, day_of_month \\t\\t\\t\\t   ) as f2 on f.year = f2.year and f.month = f2.month and f.day_of_month = f2.day_of_month group by to_date((f.year||'-'||f.month||'-'||f.day_of_month), 'YYYY-mm-DD'), round(is_delayed_mean, 2)\"]"
      ]
     },
     "execution_count": 6,
     "metadata": {},
     "output_type": "execute_result"
    }
   ],
   "source": [
    "sql_code = sql_code.split(';')\n",
    "sql_code"
   ]
  },
  {
   "cell_type": "markdown",
   "metadata": {},
   "source": [
    "Executing querries from 'reporting.sql'"
   ]
  },
  {
   "cell_type": "code",
   "execution_count": 7,
   "metadata": {},
   "outputs": [
    {
     "name": "stdout",
     "output_type": "stream",
     "text": [
      "/* Defining `reporting` schema */ CREATE SCHEMA IF NOT EXISTS reporting \n",
      " /* Defining reporting.flight view, which: - doesn't include cancelled flights - include 'is_delayed' column */ CREATE OR REPLACE VIEW reporting.flight as SELECT *,        CASE            WHEN dep_delay_new > 0 THEN 1            ELSE 0        END AS is_delayed FROM flight where cancelled = 0  \n",
      " /* Defining reporting.top_reliability_roads view, which includes: - `origin_airport_id`, - `origin_airport_name`, - `dest_airport_id`, - `dest_airport_name`, - `year`, - `cnt` - number of flights on route, - `reliability` - delay ratio in route, - `nb` - ranking reliability,  columns */ CREATE OR REPLACE VIEW reporting.top_reliability_roads AS select f.origin_airport_id, \tal.name as origin_airport_name, \tf.dest_airport_id, \tal2.name as dest_airport_name, \tyear, \tcount(*) as cnt, \tround(is_delayed_mean, 2) as reliability, \tdense_rank() over(order by round(is_delayed_mean, 2)) as nb FROM flight f join airport_list al on f.origin_airport_id = al.origin_airport_id \t\t\t  join airport_list al2 on f.dest_airport_id = al2.origin_airport_id \t\t\t  join (select  \t\t\t\t   \t\torigin_airport_id, \t\t\t\t   \t\tdest_airport_id, \t\t\t\t   \t\tavg(CASE \t\t\t\t\t\t\t   WHEN dep_delay_new > 0 THEN 1 \t\t\t\t\t\t\t   ELSE 0 \t\t\t\t\t\tEND) AS is_delayed_mean \t\t\t\t\tfrom flight \t\t\t\t    group by origin_airport_id, dest_airport_id \t\t\t\t   ) as f2 on f.origin_airport_id = f2.origin_airport_id AND f.dest_airport_id = f2.dest_airport_id group by f.origin_airport_id, f.dest_airport_id, al.name, al2.name, year, is_delayed_mean having count(*) > 10000 \n",
      " /* Defining reporting.year_to_year_comparision view, which includes: - `year` - `month`, - `flights_amount` - `reliability` columns */ CREATE OR REPLACE VIEW reporting.year_to_year_comparision AS select  f.year, f.month, count(*) as flights_amount, round(is_delayed_mean, 2) as reliability from flight f join (select  \t\t\t\t   \t\tyear, \t\t\t\t   \t\tmonth, \t\t\t\t   \t\tavg(CASE \t\t\t\t\t\t\t   WHEN dep_delay_new > 0 THEN 1 \t\t\t\t\t\t\t   ELSE 0 \t\t\t\t\t\tEND) AS is_delayed_mean \t\t\t\t\tfrom flight \t\t\t\t    group by year, month \t\t\t\t   ) as f2 on f.year = f2.year and f.month = f2.month group by f.year, f.month, is_delayed_mean order by f.year, f.month \n",
      " /* Defining reporting.day_to_day_comparision view, which includes: - `year` - `day_of_week` - `flights_amount` */ CREATE OR REPLACE VIEW reporting.day_to_day_comparision AS select  year, day_of_week, count(*) as flights_amount from flight  group by year, day_of_week order by year, day_of_week \n",
      " /* Defining reporting.day_by_day_reliability view, which includes: - `date`  - `reliability`  */ CREATE OR REPLACE VIEW reporting.day_by_day_reliability AS select  to_date((f.year||'-'||f.month||'-'||f.day_of_month), 'YYYY-mm-DD') as date, round(is_delayed_mean, 2) as reliability from flight f join (select  \t\t\t\t   \t\tyear, \t\t\t\t   \t\tmonth, \t\t\t\t\t\tday_of_month, \t\t\t\t   \t\tavg(CASE \t\t\t\t\t\t\t   WHEN dep_delay_new > 0 THEN 1 \t\t\t\t\t\t\t   ELSE 0 \t\t\t\t\t\tEND) AS is_delayed_mean \t\t\t\t\tfrom flight \t\t\t\t    group by year, month, day_of_month \t\t\t\t   ) as f2 on f.year = f2.year and f.month = f2.month and f.day_of_month = f2.day_of_month group by to_date((f.year||'-'||f.month||'-'||f.day_of_month), 'YYYY-mm-DD'), round(is_delayed_mean, 2)\n"
     ]
    }
   ],
   "source": [
    "for query in sql_code:\n",
    "    print(query)\n",
    "    cursor.execute(query)"
   ]
  },
  {
   "cell_type": "markdown",
   "metadata": {},
   "source": [
    " Zatwierdzenie wszystkich operacji na bazie, czyli stworzenie widoków"
   ]
  },
  {
   "cell_type": "code",
   "execution_count": 8,
   "metadata": {},
   "outputs": [],
   "source": [
    "con.commit()"
   ]
  },
  {
   "cell_type": "markdown",
   "metadata": {},
   "source": [
    " ### Checking if the views were created"
   ]
  },
  {
   "cell_type": "code",
   "execution_count": 9,
   "metadata": {},
   "outputs": [],
   "source": [
    "def check_if_table_exists(table_name):\n",
    "    msg = f\"Checking if {table_name} table exists\"\n",
    "    print(msg)\n",
    "\n",
    "    query = f\"select 1 from {table_name}\"\n",
    "    \n",
    "    cursor.execute(query)\n",
    "    print('OK!')"
   ]
  },
  {
   "cell_type": "code",
   "execution_count": 10,
   "metadata": {},
   "outputs": [],
   "source": [
    "views_to_test = [\n",
    "    'reporting.flight',\n",
    "    'reporting.top_reliability_roads',\n",
    "    'reporting.year_to_year_comparision',\n",
    "    'reporting.day_to_day_comparision',\n",
    "    'reporting.day_by_day_reliability'\n",
    "]"
   ]
  },
  {
   "cell_type": "code",
   "execution_count": 11,
   "metadata": {},
   "outputs": [
    {
     "name": "stdout",
     "output_type": "stream",
     "text": [
      "Checking if reporting.flight table exists\n"
     ]
    },
    {
     "name": "stdout",
     "output_type": "stream",
     "text": [
      "OK!\n",
      "Checking if reporting.top_reliability_roads table exists\n",
      "OK!\n",
      "Checking if reporting.year_to_year_comparision table exists\n",
      "OK!\n",
      "Checking if reporting.day_to_day_comparision table exists\n",
      "OK!\n",
      "Checking if reporting.day_by_day_reliability table exists\n",
      "OK!\n"
     ]
    }
   ],
   "source": [
    "for view in views_to_test:\n",
    "    check_if_table_exists(view)"
   ]
  },
  {
   "cell_type": "code",
   "execution_count": 12,
   "metadata": {},
   "outputs": [],
   "source": [
    "con.close()"
   ]
  }
 ],
 "metadata": {
  "kernelspec": {
   "display_name": "Python 3 (ipykernel)",
   "language": "python",
   "name": "python3"
  },
  "language_info": {
   "codemirror_mode": {
    "name": "ipython",
    "version": 3
   },
   "file_extension": ".py",
   "mimetype": "text/x-python",
   "name": "python",
   "nbconvert_exporter": "python",
   "pygments_lexer": "ipython3",
   "version": "3.11.4"
  },
  "vscode": {
   "interpreter": {
    "hash": "38d75d0df746d7f75dd34c5d1915af59cb55786647bd68b8d9064425d7680b12"
   }
  }
 },
 "nbformat": 4,
 "nbformat_minor": 4
}
