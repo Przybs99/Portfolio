{
 "cells": [
  {
   "cell_type": "markdown",
   "metadata": {},
   "source": [
    " # Notebook description\n",
    " In this notebook a report is made which includes:\n",
    " 1. Top 10 lowest delays ratio\n",
    " 2. Top 10 highest delays ratio \n",
    " 3. 2019 vs 2020 comparison to see if covid had any influence. \n",
    "     - month to month comparison\n",
    "     - day to day comparison\n",
    " 4. Daily delays ratio\n",
    "\n"
   ]
  },
  {
   "cell_type": "markdown",
   "metadata": {},
   "source": [
    " Libraries import and loading enviroment variables"
   ]
  },
  {
   "cell_type": "code",
   "execution_count": 1,
   "metadata": {},
   "outputs": [],
   "source": [
    "from sqlalchemy import create_engine\n",
    "from sqlalchemy.engine import URL\n",
    "from dash import Dash, dcc, html, callback, Input, Output, dash_table\n",
    "import plotly.express as px\n",
    "import pandas as pd\n",
    "from dotenv import load_dotenv\n",
    "from os import environ"
   ]
  },
  {
   "cell_type": "code",
   "execution_count": 2,
   "metadata": {},
   "outputs": [
    {
     "data": {
      "text/plain": [
       "True"
      ]
     },
     "execution_count": 2,
     "metadata": {},
     "output_type": "execute_result"
    }
   ],
   "source": [
    "dotenv_path = '../.env'\n",
    "load_dotenv(dotenv_path)"
   ]
  },
  {
   "cell_type": "code",
   "execution_count": 3,
   "metadata": {},
   "outputs": [],
   "source": [
    "username = environ.get('db_username')\n",
    "password = environ.get('db_password')\n",
    "\n",
    "host = environ.get('db_host')\n",
    "database = environ.get('db_database')\n",
    "port = environ.get('db_port')"
   ]
  },
  {
   "cell_type": "markdown",
   "metadata": {},
   "source": [
    "Creating connection variables"
   ]
  },
  {
   "cell_type": "code",
   "execution_count": 4,
   "metadata": {},
   "outputs": [],
   "source": [
    "url = URL.create(\n",
    "    \"postgresql\",\n",
    "    username=username,\n",
    "    password=password,\n",
    "    host=host,\n",
    "    database=database,\n",
    ")\n",
    "engine = create_engine(url)"
   ]
  },
  {
   "cell_type": "markdown",
   "metadata": {},
   "source": [
    "Creating function that downloads data from database into dataframe"
   ]
  },
  {
   "cell_type": "code",
   "execution_count": 5,
   "metadata": {},
   "outputs": [],
   "source": [
    "def read_sql_table(tablename):\n",
    "    return pd.read_sql(f'select * from {tablename}', engine)"
   ]
  },
  {
   "cell_type": "markdown",
   "metadata": {},
   "source": [
    " # Create`TOP 10 routes` table\n"
   ]
  },
  {
   "cell_type": "markdown",
   "metadata": {},
   "source": [
    "Loading data to `top_routes_df` from `reporting.top_reliability_roads`"
   ]
  },
  {
   "cell_type": "code",
   "execution_count": 6,
   "metadata": {},
   "outputs": [
    {
     "data": {
      "text/html": [
       "<div>\n",
       "<style scoped>\n",
       "    .dataframe tbody tr th:only-of-type {\n",
       "        vertical-align: middle;\n",
       "    }\n",
       "\n",
       "    .dataframe tbody tr th {\n",
       "        vertical-align: top;\n",
       "    }\n",
       "\n",
       "    .dataframe thead th {\n",
       "        text-align: right;\n",
       "    }\n",
       "</style>\n",
       "<table border=\"1\" class=\"dataframe\">\n",
       "  <thead>\n",
       "    <tr style=\"text-align: right;\">\n",
       "      <th></th>\n",
       "      <th>origin_airport_id</th>\n",
       "      <th>origin_airport_name</th>\n",
       "      <th>dest_airport_id</th>\n",
       "      <th>dest_airport_name</th>\n",
       "      <th>year</th>\n",
       "      <th>cnt</th>\n",
       "      <th>reliability</th>\n",
       "      <th>nb</th>\n",
       "    </tr>\n",
       "  </thead>\n",
       "  <tbody>\n",
       "    <tr>\n",
       "      <th>0</th>\n",
       "      <td>12173</td>\n",
       "      <td>LOS ANGELES INTERNATIONAL AIRPORT, CA US</td>\n",
       "      <td>13830</td>\n",
       "      <td>HONOLULU INTERNATIONAL AIRPORT, HI US</td>\n",
       "      <td>2019</td>\n",
       "      <td>10735</td>\n",
       "      <td>0.24</td>\n",
       "      <td>1</td>\n",
       "    </tr>\n",
       "  </tbody>\n",
       "</table>\n",
       "</div>"
      ],
      "text/plain": [
       "   origin_airport_id                       origin_airport_name  \\\n",
       "0              12173  LOS ANGELES INTERNATIONAL AIRPORT, CA US   \n",
       "\n",
       "   dest_airport_id                      dest_airport_name  year    cnt  \\\n",
       "0            13830  HONOLULU INTERNATIONAL AIRPORT, HI US  2019  10735   \n",
       "\n",
       "   reliability  nb  \n",
       "0         0.24   1  "
      ]
     },
     "execution_count": 6,
     "metadata": {},
     "output_type": "execute_result"
    }
   ],
   "source": [
    "top_routes_df = read_sql_table('reporting.top_reliability_roads')\n",
    "top_routes_df.head(1)"
   ]
  },
  {
   "cell_type": "markdown",
   "metadata": {},
   "source": [
    "Updating format of reliability `reliability`"
   ]
  },
  {
   "cell_type": "code",
   "execution_count": 7,
   "metadata": {},
   "outputs": [
    {
     "data": {
      "text/html": [
       "<div>\n",
       "<style scoped>\n",
       "    .dataframe tbody tr th:only-of-type {\n",
       "        vertical-align: middle;\n",
       "    }\n",
       "\n",
       "    .dataframe tbody tr th {\n",
       "        vertical-align: top;\n",
       "    }\n",
       "\n",
       "    .dataframe thead th {\n",
       "        text-align: right;\n",
       "    }\n",
       "</style>\n",
       "<table border=\"1\" class=\"dataframe\">\n",
       "  <thead>\n",
       "    <tr style=\"text-align: right;\">\n",
       "      <th></th>\n",
       "      <th>origin_airport_id</th>\n",
       "      <th>origin_airport_name</th>\n",
       "      <th>dest_airport_id</th>\n",
       "      <th>dest_airport_name</th>\n",
       "      <th>year</th>\n",
       "      <th>cnt</th>\n",
       "      <th>reliability</th>\n",
       "      <th>nb</th>\n",
       "    </tr>\n",
       "  </thead>\n",
       "  <tbody>\n",
       "    <tr>\n",
       "      <th>0</th>\n",
       "      <td>12173</td>\n",
       "      <td>LOS ANGELES INTERNATIONAL AIRPORT, CA US</td>\n",
       "      <td>13830</td>\n",
       "      <td>HONOLULU INTERNATIONAL AIRPORT, HI US</td>\n",
       "      <td>2019</td>\n",
       "      <td>10735</td>\n",
       "      <td>24%</td>\n",
       "      <td>1</td>\n",
       "    </tr>\n",
       "  </tbody>\n",
       "</table>\n",
       "</div>"
      ],
      "text/plain": [
       "   origin_airport_id                       origin_airport_name  \\\n",
       "0              12173  LOS ANGELES INTERNATIONAL AIRPORT, CA US   \n",
       "\n",
       "   dest_airport_id                      dest_airport_name  year    cnt  \\\n",
       "0            13830  HONOLULU INTERNATIONAL AIRPORT, HI US  2019  10735   \n",
       "\n",
       "  reliability  nb  \n",
       "0         24%   1  "
      ]
     },
     "execution_count": 7,
     "metadata": {},
     "output_type": "execute_result"
    }
   ],
   "source": [
    "top_routes_df['reliability'] = top_routes_df['reliability'].transform(lambda x: '{:,.0%}'.format(x))\n",
    "top_routes_df.head(1)"
   ]
  },
  {
   "cell_type": "markdown",
   "metadata": {},
   "source": [
    "Renaming columns"
   ]
  },
  {
   "cell_type": "code",
   "execution_count": 8,
   "metadata": {},
   "outputs": [
    {
     "data": {
      "text/html": [
       "<div>\n",
       "<style scoped>\n",
       "    .dataframe tbody tr th:only-of-type {\n",
       "        vertical-align: middle;\n",
       "    }\n",
       "\n",
       "    .dataframe tbody tr th {\n",
       "        vertical-align: top;\n",
       "    }\n",
       "\n",
       "    .dataframe thead th {\n",
       "        text-align: right;\n",
       "    }\n",
       "</style>\n",
       "<table border=\"1\" class=\"dataframe\">\n",
       "  <thead>\n",
       "    <tr style=\"text-align: right;\">\n",
       "      <th></th>\n",
       "      <th>Origin</th>\n",
       "      <th>Destination</th>\n",
       "      <th>Year</th>\n",
       "      <th>Reliability</th>\n",
       "      <th>Rank</th>\n",
       "    </tr>\n",
       "  </thead>\n",
       "  <tbody>\n",
       "    <tr>\n",
       "      <th>0</th>\n",
       "      <td>12173</td>\n",
       "      <td>13830</td>\n",
       "      <td>2019</td>\n",
       "      <td>24%</td>\n",
       "      <td>1</td>\n",
       "    </tr>\n",
       "    <tr>\n",
       "      <th>1</th>\n",
       "      <td>12478</td>\n",
       "      <td>12892</td>\n",
       "      <td>2019</td>\n",
       "      <td>25%</td>\n",
       "      <td>2</td>\n",
       "    </tr>\n",
       "    <tr>\n",
       "      <th>2</th>\n",
       "      <td>13830</td>\n",
       "      <td>12173</td>\n",
       "      <td>2019</td>\n",
       "      <td>26%</td>\n",
       "      <td>3</td>\n",
       "    </tr>\n",
       "    <tr>\n",
       "      <th>3</th>\n",
       "      <td>10721</td>\n",
       "      <td>12953</td>\n",
       "      <td>2019</td>\n",
       "      <td>31%</td>\n",
       "      <td>4</td>\n",
       "    </tr>\n",
       "    <tr>\n",
       "      <th>4</th>\n",
       "      <td>12953</td>\n",
       "      <td>10721</td>\n",
       "      <td>2019</td>\n",
       "      <td>31%</td>\n",
       "      <td>4</td>\n",
       "    </tr>\n",
       "    <tr>\n",
       "      <th>5</th>\n",
       "      <td>14771</td>\n",
       "      <td>12892</td>\n",
       "      <td>2019</td>\n",
       "      <td>31%</td>\n",
       "      <td>4</td>\n",
       "    </tr>\n",
       "    <tr>\n",
       "      <th>6</th>\n",
       "      <td>12953</td>\n",
       "      <td>13930</td>\n",
       "      <td>2019</td>\n",
       "      <td>32%</td>\n",
       "      <td>5</td>\n",
       "    </tr>\n",
       "    <tr>\n",
       "      <th>7</th>\n",
       "      <td>12892</td>\n",
       "      <td>14771</td>\n",
       "      <td>2019</td>\n",
       "      <td>33%</td>\n",
       "      <td>6</td>\n",
       "    </tr>\n",
       "    <tr>\n",
       "      <th>8</th>\n",
       "      <td>12889</td>\n",
       "      <td>12892</td>\n",
       "      <td>2019</td>\n",
       "      <td>33%</td>\n",
       "      <td>6</td>\n",
       "    </tr>\n",
       "    <tr>\n",
       "      <th>9</th>\n",
       "      <td>12892</td>\n",
       "      <td>12478</td>\n",
       "      <td>2019</td>\n",
       "      <td>35%</td>\n",
       "      <td>7</td>\n",
       "    </tr>\n",
       "  </tbody>\n",
       "</table>\n",
       "</div>"
      ],
      "text/plain": [
       "   Origin  Destination  Year Reliability  Rank\n",
       "0   12173        13830  2019         24%     1\n",
       "1   12478        12892  2019         25%     2\n",
       "2   13830        12173  2019         26%     3\n",
       "3   10721        12953  2019         31%     4\n",
       "4   12953        10721  2019         31%     4\n",
       "5   14771        12892  2019         31%     4\n",
       "6   12953        13930  2019         32%     5\n",
       "7   12892        14771  2019         33%     6\n",
       "8   12889        12892  2019         33%     6\n",
       "9   12892        12478  2019         35%     7"
      ]
     },
     "execution_count": 8,
     "metadata": {},
     "output_type": "execute_result"
    }
   ],
   "source": [
    "top_routes_df = top_routes_df.loc[:,['origin_airport_id', 'dest_airport_id', 'year', 'reliability', 'nb']]\n",
    "top_routes_df.columns = ['Origin', 'Destination', 'Year', 'Reliability', 'Rank']\n",
    "top_routes_df = top_routes_df.sort_values('Reliability').head(10)\n",
    "top_routes_df.head(100)"
   ]
  },
  {
   "cell_type": "markdown",
   "metadata": {},
   "source": [
    " # Comparing  2019 vs. 2020\n",
    "Creating a plot and component to put in the dashboard"
   ]
  },
  {
   "cell_type": "markdown",
   "metadata": {},
   "source": [
    "Loading data from `reporting.year_to_year_comparision` view"
   ]
  },
  {
   "cell_type": "code",
   "execution_count": 9,
   "metadata": {},
   "outputs": [
    {
     "data": {
      "text/html": [
       "<div>\n",
       "<style scoped>\n",
       "    .dataframe tbody tr th:only-of-type {\n",
       "        vertical-align: middle;\n",
       "    }\n",
       "\n",
       "    .dataframe tbody tr th {\n",
       "        vertical-align: top;\n",
       "    }\n",
       "\n",
       "    .dataframe thead th {\n",
       "        text-align: right;\n",
       "    }\n",
       "</style>\n",
       "<table border=\"1\" class=\"dataframe\">\n",
       "  <thead>\n",
       "    <tr style=\"text-align: right;\">\n",
       "      <th></th>\n",
       "      <th>year</th>\n",
       "      <th>month</th>\n",
       "      <th>flights_amount</th>\n",
       "      <th>reliability</th>\n",
       "    </tr>\n",
       "  </thead>\n",
       "  <tbody>\n",
       "    <tr>\n",
       "      <th>0</th>\n",
       "      <td>2019</td>\n",
       "      <td>1</td>\n",
       "      <td>89455</td>\n",
       "      <td>0.34</td>\n",
       "    </tr>\n",
       "  </tbody>\n",
       "</table>\n",
       "</div>"
      ],
      "text/plain": [
       "   year  month  flights_amount  reliability\n",
       "0  2019      1           89455         0.34"
      ]
     },
     "execution_count": 9,
     "metadata": {},
     "output_type": "execute_result"
    }
   ],
   "source": [
    "yoy_comparision_df = read_sql_table('reporting.year_to_year_comparision')\n",
    "yoy_comparision_df.head(1)"
   ]
  },
  {
   "cell_type": "markdown",
   "metadata": {},
   "source": [
    "Transforming dataframe"
   ]
  },
  {
   "cell_type": "code",
   "execution_count": 10,
   "metadata": {},
   "outputs": [
    {
     "data": {
      "text/html": [
       "<div>\n",
       "<style scoped>\n",
       "    .dataframe tbody tr th:only-of-type {\n",
       "        vertical-align: middle;\n",
       "    }\n",
       "\n",
       "    .dataframe tbody tr th {\n",
       "        vertical-align: top;\n",
       "    }\n",
       "\n",
       "    .dataframe thead th {\n",
       "        text-align: right;\n",
       "    }\n",
       "</style>\n",
       "<table border=\"1\" class=\"dataframe\">\n",
       "  <thead>\n",
       "    <tr style=\"text-align: right;\">\n",
       "      <th></th>\n",
       "      <th>year</th>\n",
       "      <th>month</th>\n",
       "      <th>reliability</th>\n",
       "    </tr>\n",
       "  </thead>\n",
       "  <tbody>\n",
       "    <tr>\n",
       "      <th>0</th>\n",
       "      <td>2019</td>\n",
       "      <td>1</td>\n",
       "      <td>34.0</td>\n",
       "    </tr>\n",
       "  </tbody>\n",
       "</table>\n",
       "</div>"
      ],
      "text/plain": [
       "   year  month  reliability\n",
       "0  2019      1         34.0"
      ]
     },
     "execution_count": 10,
     "metadata": {},
     "output_type": "execute_result"
    }
   ],
   "source": [
    "yoy_comparision_to_plot_df = yoy_comparision_df.loc[:,['year', 'month', 'reliability']]\n",
    "yoy_comparision_to_plot_df['year'] = pd.to_datetime(yoy_comparision_to_plot_df['year'], format = '%Y').dt.strftime('%Y')\n",
    "yoy_comparision_to_plot_df['reliability'] = round(yoy_comparision_to_plot_df['reliability'] * 100, 2)\n",
    "yoy_comparision_to_plot_df.head(1)"
   ]
  },
  {
   "cell_type": "markdown",
   "metadata": {},
   "source": [
    "Creating a barplot of reliability depending on year and month"
   ]
  },
  {
   "cell_type": "code",
   "execution_count": 11,
   "metadata": {},
   "outputs": [
    {
     "data": {
      "image/png": "[encoded data removed]"
     },
     "metadata": {},
     "output_type": "display_data"
    }
   ],
   "source": [
    "yoy_comparision_fig = px.bar(yoy_comparision_to_plot_df,\n",
    "                      x='month',\n",
    "                      y = 'reliability',\n",
    "                      title='Barplot of reliability depending on year and month',\n",
    "                      color = 'year',\n",
    "                      color_discrete_map = {\n",
    "                          '2019': 'forestgreen',\n",
    "                          '2020': 'firebrick'\n",
    "                      },\n",
    "                      width = 800, \n",
    "                      height = 500,\n",
    "                      hover_data = ['year', 'month', 'reliability'],\n",
    "                      barmode = 'group'\n",
    "                      )\n",
    "yoy_comparision_fig.update_layout(xaxis_title=\"Month\", yaxis_title=\"% of delays\")\n",
    "yoy_comparision_fig.update_xaxes(dtick = 'month')\n",
    "\n",
    "yoy_comparision_fig.show('png')"
   ]
  },
  {
   "cell_type": "markdown",
   "metadata": {},
   "source": [
    " # Comparing weekday to weekday in 2019 and 2020\n"
   ]
  },
  {
   "cell_type": "markdown",
   "metadata": {},
   "source": [
    "Loading `reporting.day_to_day_comparision` view to dataframe"
   ]
  },
  {
   "cell_type": "code",
   "execution_count": 12,
   "metadata": {},
   "outputs": [
    {
     "data": {
      "text/html": [
       "<div>\n",
       "<style scoped>\n",
       "    .dataframe tbody tr th:only-of-type {\n",
       "        vertical-align: middle;\n",
       "    }\n",
       "\n",
       "    .dataframe tbody tr th {\n",
       "        vertical-align: top;\n",
       "    }\n",
       "\n",
       "    .dataframe thead th {\n",
       "        text-align: right;\n",
       "    }\n",
       "</style>\n",
       "<table border=\"1\" class=\"dataframe\">\n",
       "  <thead>\n",
       "    <tr style=\"text-align: right;\">\n",
       "      <th></th>\n",
       "      <th>year</th>\n",
       "      <th>day_of_week</th>\n",
       "      <th>flights_amount</th>\n",
       "    </tr>\n",
       "  </thead>\n",
       "  <tbody>\n",
       "    <tr>\n",
       "      <th>0</th>\n",
       "      <td>2019</td>\n",
       "      <td>1</td>\n",
       "      <td>167761</td>\n",
       "    </tr>\n",
       "  </tbody>\n",
       "</table>\n",
       "</div>"
      ],
      "text/plain": [
       "   year  day_of_week  flights_amount\n",
       "0  2019            1          167761"
      ]
     },
     "execution_count": 12,
     "metadata": {},
     "output_type": "execute_result"
    }
   ],
   "source": [
    "day_to_day_comparision_df = read_sql_table('reporting.day_to_day_comparision')\n",
    "day_to_day_comparision_df.head(1)"
   ]
  },
  {
   "cell_type": "markdown",
   "metadata": {},
   "source": [
    "Converting 'year' column to datetime format"
   ]
  },
  {
   "cell_type": "code",
   "execution_count": 13,
   "metadata": {},
   "outputs": [
    {
     "data": {
      "text/html": [
       "<div>\n",
       "<style scoped>\n",
       "    .dataframe tbody tr th:only-of-type {\n",
       "        vertical-align: middle;\n",
       "    }\n",
       "\n",
       "    .dataframe tbody tr th {\n",
       "        vertical-align: top;\n",
       "    }\n",
       "\n",
       "    .dataframe thead th {\n",
       "        text-align: right;\n",
       "    }\n",
       "</style>\n",
       "<table border=\"1\" class=\"dataframe\">\n",
       "  <thead>\n",
       "    <tr style=\"text-align: right;\">\n",
       "      <th></th>\n",
       "      <th>year</th>\n",
       "      <th>day_of_week</th>\n",
       "      <th>flights_amount</th>\n",
       "    </tr>\n",
       "  </thead>\n",
       "  <tbody>\n",
       "    <tr>\n",
       "      <th>0</th>\n",
       "      <td>2019</td>\n",
       "      <td>1</td>\n",
       "      <td>167761</td>\n",
       "    </tr>\n",
       "  </tbody>\n",
       "</table>\n",
       "</div>"
      ],
      "text/plain": [
       "   year  day_of_week  flights_amount\n",
       "0  2019            1          167761"
      ]
     },
     "execution_count": 13,
     "metadata": {},
     "output_type": "execute_result"
    }
   ],
   "source": [
    "day_to_day_comparision_df['year'] = pd.to_datetime(day_to_day_comparision_df['year'], format = '%Y').dt.strftime('%Y')\n",
    "day_to_day_comparision_df.head(1)"
   ]
  },
  {
   "cell_type": "markdown",
   "metadata": {},
   "source": [
    "Creating a barplot of amount of flights in each weekday depending on year"
   ]
  },
  {
   "cell_type": "code",
   "execution_count": 14,
   "metadata": {},
   "outputs": [
    {
     "data": {
      "image/png": "[encoded data removed]"
     },
     "metadata": {},
     "output_type": "display_data"
    }
   ],
   "source": [
    "day_to_day_comparision_fig = px.bar(day_to_day_comparision_df,\n",
    "                      x='day_of_week',\n",
    "                      y = 'flights_amount',\n",
    "                      title='Barplot of amounts of flights depending on year and day of the week',\n",
    "                      color = 'year',\n",
    "                      color_discrete_map = {\n",
    "                          '2019': 'forestgreen',\n",
    "                          '2020': 'firebrick'\n",
    "                      },\n",
    "                      width = 800, \n",
    "                      height = 500,\n",
    "                      hover_data = ['year', 'day_of_week', 'flights_amount'],\n",
    "                      barmode = 'group'\n",
    "                      )\n",
    "day_to_day_comparision_fig.update_layout(xaxis_title=\"Month\", yaxis_title=\"Amount of flights\")\n",
    "day_to_day_comparision_fig.update_xaxes(dtick = 'day_of_week')\n",
    "\n",
    "day_to_day_comparision_fig.show('png')"
   ]
  },
  {
   "cell_type": "markdown",
   "metadata": {},
   "source": [
    " # Creating time series\n",
    "A time series show day by day delays ratio"
   ]
  },
  {
   "cell_type": "markdown",
   "metadata": {},
   "source": [
    "Loading `reporting.day_by_day_reliability` view"
   ]
  },
  {
   "cell_type": "code",
   "execution_count": 15,
   "metadata": {},
   "outputs": [
    {
     "data": {
      "text/html": [
       "<div>\n",
       "<style scoped>\n",
       "    .dataframe tbody tr th:only-of-type {\n",
       "        vertical-align: middle;\n",
       "    }\n",
       "\n",
       "    .dataframe tbody tr th {\n",
       "        vertical-align: top;\n",
       "    }\n",
       "\n",
       "    .dataframe thead th {\n",
       "        text-align: right;\n",
       "    }\n",
       "</style>\n",
       "<table border=\"1\" class=\"dataframe\">\n",
       "  <thead>\n",
       "    <tr style=\"text-align: right;\">\n",
       "      <th></th>\n",
       "      <th>date</th>\n",
       "      <th>reliability</th>\n",
       "      <th>year</th>\n",
       "    </tr>\n",
       "  </thead>\n",
       "  <tbody>\n",
       "    <tr>\n",
       "      <th>0</th>\n",
       "      <td>2019-01-01</td>\n",
       "      <td>40.0</td>\n",
       "      <td>2019</td>\n",
       "    </tr>\n",
       "  </tbody>\n",
       "</table>\n",
       "</div>"
      ],
      "text/plain": [
       "         date  reliability  year\n",
       "0  2019-01-01         40.0  2019"
      ]
     },
     "execution_count": 15,
     "metadata": {},
     "output_type": "execute_result"
    }
   ],
   "source": [
    "day_by_day_reliability_df = read_sql_table('reporting.day_by_day_reliability')\n",
    "day_by_day_reliability_df['year'] = pd.to_datetime(day_by_day_reliability_df['date']).dt.strftime('%Y')\n",
    "day_by_day_reliability_df['reliability'] = round(day_by_day_reliability_df['reliability'] * 100, 2)\n",
    "day_by_day_reliability_df.head(1)"
   ]
  },
  {
   "cell_type": "markdown",
   "metadata": {},
   "source": [
    "Creating barplot of day by day delays ratio"
   ]
  },
  {
   "cell_type": "code",
   "execution_count": 16,
   "metadata": {},
   "outputs": [
    {
     "data": {
      "image/png": "[encoded data removed]"
     },
     "metadata": {},
     "output_type": "display_data"
    }
   ],
   "source": [
    "day_by_day_reliability_fig = px.line(day_by_day_reliability_df,\n",
    "                      x='date',\n",
    "                      y = 'reliability',\n",
    "                      title='Barplot of reliability broken down by date',\n",
    "                      color = 'year',\n",
    "                      color_discrete_map = {\n",
    "                          '2019': 'forestgreen',\n",
    "                          '2020': 'firebrick'\n",
    "                      })\n",
    "day_by_day_reliability_fig.update_layout(xaxis_title=\"Manufacture year\", yaxis_title=\"% of departure delays\")\n",
    "day_by_day_reliability_fig.update_yaxes(dtick = 10)\n",
    "\n",
    "day_by_day_reliability_fig.show('png')"
   ]
  },
  {
   "cell_type": "markdown",
   "metadata": {},
   "source": [
    " # Creating layouts for each page"
   ]
  },
  {
   "cell_type": "markdown",
   "metadata": {},
   "source": [
    " ## Creating top 10 routes layout\n",
    "Creating dash.Datatable object to put in the dashboard"
   ]
  },
  {
   "cell_type": "code",
   "execution_count": 17,
   "metadata": {},
   "outputs": [
    {
     "data": {
      "text/html": [
       "<div>\n",
       "<style scoped>\n",
       "    .dataframe tbody tr th:only-of-type {\n",
       "        vertical-align: middle;\n",
       "    }\n",
       "\n",
       "    .dataframe tbody tr th {\n",
       "        vertical-align: top;\n",
       "    }\n",
       "\n",
       "    .dataframe thead th {\n",
       "        text-align: right;\n",
       "    }\n",
       "</style>\n",
       "<table border=\"1\" class=\"dataframe\">\n",
       "  <thead>\n",
       "    <tr style=\"text-align: right;\">\n",
       "      <th></th>\n",
       "      <th>Origin</th>\n",
       "      <th>Destination</th>\n",
       "      <th>Year</th>\n",
       "      <th>Reliability</th>\n",
       "      <th>Rank</th>\n",
       "    </tr>\n",
       "  </thead>\n",
       "  <tbody>\n",
       "    <tr>\n",
       "      <th>0</th>\n",
       "      <td>12173</td>\n",
       "      <td>13830</td>\n",
       "      <td>2019</td>\n",
       "      <td>24%</td>\n",
       "      <td>1</td>\n",
       "    </tr>\n",
       "  </tbody>\n",
       "</table>\n",
       "</div>"
      ],
      "text/plain": [
       "   Origin  Destination  Year Reliability  Rank\n",
       "0   12173        13830  2019         24%     1"
      ]
     },
     "execution_count": 17,
     "metadata": {},
     "output_type": "execute_result"
    }
   ],
   "source": [
    "top_routes_df.head(1)"
   ]
  },
  {
   "cell_type": "code",
   "execution_count": 18,
   "metadata": {},
   "outputs": [
    {
     "data": {
      "text/plain": [
       "DataTable(data=[{'Origin': 12173, 'Destination': 13830, 'Year': 2019, 'Reliability': '24%', 'Rank': 1}, {'Origin': 12478, 'Destination': 12892, 'Year': 2019, 'Reliability': '25%', 'Rank': 2}, {'Origin': 13830, 'Destination': 12173, 'Year': 2019, 'Reliability': '26%', 'Rank': 3}, {'Origin': 10721, 'Destination': 12953, 'Year': 2019, 'Reliability': '31%', 'Rank': 4}, {'Origin': 12953, 'Destination': 10721, 'Year': 2019, 'Reliability': '31%', 'Rank': 4}, {'Origin': 14771, 'Destination': 12892, 'Year': 2019, 'Reliability': '31%', 'Rank': 4}, {'Origin': 12953, 'Destination': 13930, 'Year': 2019, 'Reliability': '32%', 'Rank': 5}, {'Origin': 12892, 'Destination': 14771, 'Year': 2019, 'Reliability': '33%', 'Rank': 6}, {'Origin': 12889, 'Destination': 12892, 'Year': 2019, 'Reliability': '33%', 'Rank': 6}, {'Origin': 12892, 'Destination': 12478, 'Year': 2019, 'Reliability': '35%', 'Rank': 7}], columns=[{'name': 'Origin', 'id': 'Origin'}, {'name': 'Destination', 'id': 'Destination'}, {'name': 'Year', 'id': 'Year'}, {'name': 'Reliability', 'id': 'Reliability'}, {'name': 'Rank', 'id': 'Rank'}], id='top_10_routes_table')"
      ]
     },
     "execution_count": 18,
     "metadata": {},
     "output_type": "execute_result"
    }
   ],
   "source": [
    "top_routes_table = dash_table.DataTable(\n",
    "    id='top_10_routes_table',\n",
    "    columns=[{'name': col, 'id': col} for col in top_routes_df.columns],\n",
    "    data=top_routes_df.to_dict('records'),\n",
    ")\n",
    "top_routes_table"
   ]
  },
  {
   "cell_type": "markdown",
   "metadata": {},
   "source": [
    "Creating table header"
   ]
  },
  {
   "cell_type": "code",
   "execution_count": 19,
   "metadata": {},
   "outputs": [],
   "source": [
    "top_routes_page_title = html.H3(\n",
    "    'TOP 10 reliability routes in 2019 and 2020',\n",
    "    style = {'fontFamily': 'verdana', 'color': '#4444'}\n",
    ")"
   ]
  },
  {
   "cell_type": "markdown",
   "metadata": {},
   "source": [
    "Creating layout for `TOP 10 routes` view"
   ]
  },
  {
   "cell_type": "code",
   "execution_count": 20,
   "metadata": {},
   "outputs": [],
   "source": [
    "top_routes_layout = html.Div([\n",
    "    top_routes_page_title,\n",
    "    top_routes_table\n",
    "])"
   ]
  },
  {
   "cell_type": "markdown",
   "metadata": {},
   "source": [
    "### Creating layout for year to year comparission"
   ]
  },
  {
   "cell_type": "markdown",
   "metadata": {},
   "source": [
    "Creating graph component of year to year comparison"
   ]
  },
  {
   "cell_type": "code",
   "execution_count": 21,
   "metadata": {},
   "outputs": [],
   "source": [
    "yoy_comparision_component = dcc.Graph(id = 'yoy_graph', figure = yoy_comparision_fig)"
   ]
  },
  {
   "cell_type": "markdown",
   "metadata": {},
   "source": [
    "Creating graph component of day to day comparison"
   ]
  },
  {
   "cell_type": "code",
   "execution_count": 22,
   "metadata": {},
   "outputs": [],
   "source": [
    "day_to_day_comparision_component = dcc.Graph(id = 'dtd_graph', figure = day_to_day_comparision_fig)"
   ]
  },
  {
   "cell_type": "markdown",
   "metadata": {},
   "source": [
    "Creating layout for comparision view"
   ]
  },
  {
   "cell_type": "code",
   "execution_count": 23,
   "metadata": {},
   "outputs": [],
   "source": [
    "comparision_layout = html.Div([\n",
    "    html.H3(\n",
    "        'Comparision',\n",
    "        style = {'fontFamily': 'verdana', 'color': '#4444'} \n",
    "    ),\n",
    "    yoy_comparision_component,\n",
    "    day_to_day_comparision_component\n",
    "])"
   ]
  },
  {
   "cell_type": "markdown",
   "metadata": {},
   "source": [
    "Creating a layout for 'day by day' view"
   ]
  },
  {
   "cell_type": "code",
   "execution_count": 24,
   "metadata": {},
   "outputs": [],
   "source": [
    "day_by_day_reliability_component = dcc.Graph(id = 'dbd_graph', figure = day_by_day_reliability_fig)\n",
    "day_by_day_layout = html.Div([\n",
    "    html.H3(\n",
    "        'Day by day reporting',\n",
    "        style = {'fontFamily': 'verdana', 'color': '#4444'} \n",
    "    ),\n",
    "    dcc.Graph(id = 'dbd_graph', figure = day_by_day_reliability_fig)\n",
    "])"
   ]
  },
  {
   "cell_type": "markdown",
   "metadata": {},
   "source": [
    " # Configurating the application\n",
    "Configurating the report application so it supports couple of pages\n",
    "\n",
    "These are the three sites that are configured:\n",
    " - `TOP report` - default,\n",
    " - `Comparision`,\n",
    " - `Day by day reporting`\n"
   ]
  },
  {
   "cell_type": "markdown",
   "metadata": {},
   "source": [
    "Creating app layout"
   ]
  },
  {
   "cell_type": "code",
   "execution_count": 25,
   "metadata": {},
   "outputs": [],
   "source": [
    "app = Dash(__name__)\n",
    "app.layout = html.Div([\n",
    "    html.Button('TOP report', id = 'tr', n_clicks = 0),\n",
    "    html.Button('Comparision', id = 'c', n_clicks = 0),\n",
    "    html.Button('Day by day reporting', id = 'dbd', n_clicks = 0),\n",
    "    html.Div(id='page-content')\n",
    "])\n",
    "\n",
    "app.layout = html.Div([\n",
    "  dcc.Location(id='url', \n",
    "  refresh=False),\n",
    "  dcc.Link(html.Button(\"Top Report\"), href=\"/\", refresh=True),\n",
    "  dcc.Link(html.Button(\"Comparision\"), href=\"/comparision_reporting\", refresh=True),\n",
    "  dcc.Link(html.Button(\"Day by day reporting\"), href=\"/day_by_day_reporting\", refresh=True),\n",
    "  \n",
    "  html.Div(id='page-content')\n",
    "])"
   ]
  },
  {
   "cell_type": "markdown",
   "metadata": {},
   "source": [
    "Creating a procedure to move between pages"
   ]
  },
  {
   "cell_type": "code",
   "execution_count": 26,
   "metadata": {},
   "outputs": [],
   "source": [
    "@callback(\n",
    "  Output('page-content', 'children'),\n",
    "  Input('url', 'pathname')\n",
    ")\n",
    "def display_page_content(pathname):\n",
    " \n",
    "  if pathname == \"/comparision_reporting\":\n",
    "    return comparision_layout\n",
    "  elif pathname == '/day_by_day_reporting':\n",
    "    return day_by_day_layout\n",
    "  elif '/':\n",
    "    return top_routes_layout"
   ]
  },
  {
   "cell_type": "markdown",
   "metadata": {},
   "source": [
    "Running the app"
   ]
  },
  {
   "cell_type": "code",
   "execution_count": 27,
   "metadata": {},
   "outputs": [
    {
     "data": {
      "text/html": [
       "\n",
       "        <iframe\n",
       "            width=\"100%\"\n",
       "            height=\"650\"\n",
       "            src=\"http://127.0.0.1:8050/\"\n",
       "            frameborder=\"0\"\n",
       "            allowfullscreen\n",
       "            \n",
       "        ></iframe>\n",
       "        "
      ],
      "text/plain": [
       "<IPython.lib.display.IFrame at 0x1f09a8f2b50>"
      ]
     },
     "metadata": {},
     "output_type": "display_data"
    }
   ],
   "source": [
    "if __name__ == '__main__':\n",
    "    app.run_server()"
   ]
  }
 ],
 "metadata": {
  "kernelspec": {
   "display_name": "Python 3 (ipykernel)",
   "language": "python",
   "name": "python3"
  },
  "language_info": {
   "codemirror_mode": {
    "name": "ipython",
    "version": 3
   },
   "file_extension": ".py",
   "mimetype": "text/x-python",
   "name": "python",
   "nbconvert_exporter": "python",
   "pygments_lexer": "ipython3",
   "version": "3.11.4"
  },
  "vscode": {
   "interpreter": {
    "hash": "38d75d0df746d7f75dd34c5d1915af59cb55786647bd68b8d9064425d7680b12"
   }
  }
 },
 "nbformat": 4,
 "nbformat_minor": 4
}
